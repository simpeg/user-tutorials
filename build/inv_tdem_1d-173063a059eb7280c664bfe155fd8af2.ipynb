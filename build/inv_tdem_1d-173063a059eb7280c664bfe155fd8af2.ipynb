{
 "cells": [
  {
   "cell_type": "markdown",
   "metadata": {},
   "source": [
    "---\n",
    "title: \"1D Inversion for a Single Sounding\"\n",
    "authors:\n",
    "  - id: devincowan\n",
    "---"
   ]
  },
  {
   "cell_type": "markdown",
   "metadata": {},
   "source": [
    "```{admonition} Intermediate notebook\n",
    ":class: caution\n",
    "This tutorial focusses on intermediate level functionality within SimPEG. Basic functionality within SimPEG is not discussed in detail, as we assume the user is already familiar. \n",
    "```"
   ]
  },
  {
   "cell_type": "markdown",
   "metadata": {},
   "source": [
    "```{admonition} Light-weight notebook\n",
    ":class: hint\n",
    "This tutorial requires minimal computational resources and can be executed quickly in the background while other computer processes are running.\n",
    "```"
   ]
  },
  {
   "cell_type": "markdown",
   "metadata": {},
   "source": [
    "**Keywords:** total magnetic intensity, integral formulation, inversion, sparse norm, tensor mesh, tree mesh.\n",
    "\n",
    "</br>\n",
    "\n",
    "**Summary:** Here we invert total magnetic intensity data to recover a susceptibility model. We demonstrate two approaches for recovering a susceptibility model:\n",
    "\n",
    "1. Weighted least-squares inversion for a tensor mesh\n",
    "2. Iteratively re-weighted least-squares (IRLS) inversion for a tree mesh\n",
    "\n",
    "The *weighted least-squares* approach is a great introduction to geophysical inversion with SimPEG. One drawback however, is that it recovers smooth structures which may not be representative of the true model. To recover sparse and/or blocky structures, we demonstrate the *iteratively re-weighted least-squares* approach.\n",
    "\n",
    "**Learning Objectives:** Because this tutorial focusses primarily on inversion-related functionality, we urge the reader to become familiar with functionality explained in the [1D Forward Simulation of Time-Domain EM Data for a Single Sounding](fwd_tdem_1d.ipynb) tutorial before working through this one. For this tutorial, we focus on:\n",
    "\n",
    "- How to carry out 1D geophysical inversion with SimPEG.\n",
    "- How to assign appropriate uncertainties to TDEM data.\n",
    "- Choosing suitable parameters for the inversion.\n",
    "- Specifying directives that are applied throughout the inversion.\n",
    "- Weighted least-squares, sparse-norm and parametric inversion.\n",
    "- Analyzing inversion outputs."
   ]
  },
  {
   "cell_type": "markdown",
   "metadata": {},
   "source": [
    "## Importing Modules\n",
    "\n",
    "Here, we import all of the functionality required to run the notebook for the tutorial exercise.\n",
    "All of the functionality specific to the forward simulation of 1D time domain EM data are imported from the [simpeg.electromagnetics.time_domain](xref:simpeg#simpeg.electromagnetics.time_domain) module. Classes required to define the data misfit, regularization, optimization, etc... are imported from elsewhere within SimPEG. We also import some useful utility functions from [simpeg.utils](xref:simpeg#simpeg.utils). To generate the mesh used for the inversion, we use the [discretize](https://discretize.simpeg.xyz/en/main) package."
   ]
  },
  {
   "cell_type": "code",
   "execution_count": 1,
   "metadata": {
    "execution": {
     "iopub.execute_input": "2025-05-23T17:58:40.833798Z",
     "iopub.status.busy": "2025-05-23T17:58:40.833485Z",
     "iopub.status.idle": "2025-05-23T17:58:42.684504Z",
     "shell.execute_reply": "2025-05-23T17:58:42.683366Z"
    }
   },
   "outputs": [],
   "source": [
    "# SimPEG functionality\n",
    "import simpeg.electromagnetics.time_domain as tdem\n",
    "from simpeg.utils import plot_1d_layer_model, download, mkvc\n",
    "from simpeg import (\n",
    "    maps,\n",
    "    data,\n",
    "    data_misfit,\n",
    "    regularization,\n",
    "    optimization,\n",
    "    inverse_problem,\n",
    "    inversion,\n",
    "    directives,\n",
    ")\n",
    "\n",
    "# discretize functionality\n",
    "from discretize import TensorMesh\n",
    "\n",
    "# Basic Python functionality\n",
    "import os\n",
    "import numpy as np\n",
    "import matplotlib as mpl\n",
    "import matplotlib.pyplot as plt\n",
    "import tarfile\n",
    "\n",
    "mpl.rcParams.update({\"font.size\": 14})"
   ]
  },
  {
   "cell_type": "markdown",
   "metadata": {},
   "source": [
    "## Download and Extract the Tutorial Data\n",
    "\n",
    "For this tutorial, the frequencies and observed data for 1D sounding are stored within a tar-file. Here, we download and extract the data file."
   ]
  },
  {
   "cell_type": "code",
   "execution_count": 2,
   "metadata": {
    "execution": {
     "iopub.execute_input": "2025-05-23T17:58:42.688079Z",
     "iopub.status.busy": "2025-05-23T17:58:42.687530Z",
     "iopub.status.idle": "2025-05-23T17:58:43.180797Z",
     "shell.execute_reply": "2025-05-23T17:58:43.179475Z"
    }
   },
   "outputs": [
    {
     "name": "stdout",
     "output_type": "stream",
     "text": [
      "Downloading https://github.com/simpeg/user-tutorials/raw/main/assets/08-tdem/inv_tdem_1d_files.tar.gz\n"
     ]
    },
    {
     "name": "stdout",
     "output_type": "stream",
     "text": [
      "   saved to: /home/ssoler/git/user-tutorials/notebooks/08-tdem/inv_tdem_1d_files.tar.gz\n",
      "Download completed!\n"
     ]
    },
    {
     "name": "stderr",
     "output_type": "stream",
     "text": [
      "/tmp/ipykernel_991943/481977248.py:9: DeprecationWarning: Python 3.14 will, by default, filter extracted tar archives and reject files or modify their metadata. Use the filter argument to control this behavior.\n",
      "  tar.extractall()\n"
     ]
    }
   ],
   "source": [
    "# URL to assets folder\n",
    "data_source = \"https://github.com/simpeg/user-tutorials/raw/main/assets/08-tdem/inv_tdem_1d_files.tar.gz\"\n",
    "\n",
    "# download the data\n",
    "downloaded_data = download(data_source, overwrite=True)\n",
    "\n",
    "# unzip the tarfile\n",
    "tar = tarfile.open(downloaded_data, \"r\")\n",
    "tar.extractall()\n",
    "tar.close()\n",
    "\n",
    "# path to the directory containing our data\n",
    "dir_path = downloaded_data.split(\".\")[0] + os.path.sep\n",
    "\n",
    "# files to work with\n",
    "data_filename = dir_path + \"em1dtm_data.txt\""
   ]
  },
  {
   "cell_type": "markdown",
   "metadata": {},
   "source": [
    "## Load and Plot the Data\n",
    "\n",
    "Here we load and plot the 1D sounding data. In this case, we have B-field data for a step-off excitation. The columns of the data file are: times (s) and Bz (T)."
   ]
  },
  {
   "cell_type": "code",
   "execution_count": 3,
   "metadata": {
    "execution": {
     "iopub.execute_input": "2025-05-23T17:58:43.185049Z",
     "iopub.status.busy": "2025-05-23T17:58:43.184637Z",
     "iopub.status.idle": "2025-05-23T17:58:43.190684Z",
     "shell.execute_reply": "2025-05-23T17:58:43.189573Z"
    }
   },
   "outputs": [],
   "source": [
    "# Load data\n",
    "dobs = np.loadtxt(str(data_filename), skiprows=1)"
   ]
  },
  {
   "cell_type": "code",
   "execution_count": 4,
   "metadata": {
    "execution": {
     "iopub.execute_input": "2025-05-23T17:58:43.194256Z",
     "iopub.status.busy": "2025-05-23T17:58:43.193844Z",
     "iopub.status.idle": "2025-05-23T17:58:43.198830Z",
     "shell.execute_reply": "2025-05-23T17:58:43.197994Z"
    }
   },
   "outputs": [],
   "source": [
    "times = dobs[:, 0]\n",
    "dobs = mkvc(dobs[:, -1])"
   ]
  },
  {
   "cell_type": "code",
   "execution_count": 5,
   "metadata": {
    "execution": {
     "iopub.execute_input": "2025-05-23T17:58:43.201786Z",
     "iopub.status.busy": "2025-05-23T17:58:43.201522Z",
     "iopub.status.idle": "2025-05-23T17:58:43.834792Z",
     "shell.execute_reply": "2025-05-23T17:58:43.834127Z"
    }
   },
   "outputs": [
    {
     "data": {
      "image/png": "[encoded data removed]",
      "text/plain": [
       "<Figure size 500x500 with 1 Axes>"
      ]
     },
     "metadata": {},
     "output_type": "display_data"
    }
   ],
   "source": [
    "fig = plt.figure(figsize=(5, 5))\n",
    "ax = fig.add_axes([0.15, 0.15, 0.8, 0.75])\n",
    "ax.loglog(times, np.abs(dobs), \"k-o\", lw=3)\n",
    "ax.grid(which=\"both\")\n",
    "ax.set_xlabel(\"Times (s)\")\n",
    "ax.set_ylabel(\"|B| (T)\")\n",
    "ax.set_title(\"Observed Data\")\n",
    "plt.show()"
   ]
  },
  {
   "cell_type": "markdown",
   "metadata": {},
   "source": [
    "## Defining the Survey\n",
    "\n",
    "Here, we define the survey geometry. For a comprehensive description of constructing TDEM surveys in SimPEG, see the [1D Forward Simulation of Time-Domain EM Data for a Single Sounding](fwd_tdem_1d.ipynb) tutorial.\n",
    "\n",
    "Here, the survey consisted of a circular transmitter loop with a radius of 6 m located 20 m above the Earth's surface. The receiver measured the vertical component of the secondary magnetic field at a the loop's centre."
   ]
  },
  {
   "cell_type": "code",
   "execution_count": 6,
   "metadata": {
    "execution": {
     "iopub.execute_input": "2025-05-23T17:58:43.838166Z",
     "iopub.status.busy": "2025-05-23T17:58:43.837928Z",
     "iopub.status.idle": "2025-05-23T17:58:43.843000Z",
     "shell.execute_reply": "2025-05-23T17:58:43.842473Z"
    }
   },
   "outputs": [],
   "source": [
    "# Source loop geometry\n",
    "source_location = np.array([0.0, 0.0, 1.0])  # (3, ) numpy.array_like\n",
    "source_orientation = \"z\"  # \"x\", \"y\" or \"z\"\n",
    "source_current = 1.0  # maximum on-time current (A)\n",
    "source_radius = 10.0  # source loop radius (m)\n",
    "\n",
    "# Receiver geometry\n",
    "receiver_location = np.array([0.0, 0.0, 1.0])  # or (N, 3) numpy.ndarray\n",
    "receiver_orientation = \"z\"  # \"x\", \"y\" or \"z\"\n",
    "\n",
    "# Receiver list\n",
    "receiver_list = []\n",
    "receiver_list.append(\n",
    "    tdem.receivers.PointMagneticFluxDensity(\n",
    "        receiver_location, times, orientation=receiver_orientation\n",
    "    )\n",
    ")\n",
    "\n",
    "# Define the source waveform.\n",
    "waveform = tdem.sources.StepOffWaveform()\n",
    "\n",
    "# Sources\n",
    "source_list = [\n",
    "    tdem.sources.CircularLoop(\n",
    "        receiver_list=receiver_list,\n",
    "        location=source_location,\n",
    "        waveform=waveform,\n",
    "        current=source_current,\n",
    "        radius=source_radius,\n",
    "    )\n",
    "]\n",
    "\n",
    "# Survey\n",
    "survey = tdem.Survey(source_list)"
   ]
  },
  {
   "cell_type": "markdown",
   "metadata": {},
   "source": [
    "## Assign Uncertainties\n",
    "\n",
    "Inversion with SimPEG requires that we define the uncertainties on our data; that is, an estimate of the standard deviation of the noise on our data assuming it is uncorrelated Gaussian with zero mean. An online resource explaining uncertainties and their role in the inversion can be found [here](https://giftoolscookbook.readthedocs.io/en/latest/content/fundamentals/Uncertainties.html).\n",
    "\n",
    "For off-time TDEM data, a percent uncertainty plus a small floor value is generally applied to all data. Depending on many factors, we may apply a percent uncertainty between 5\\% and 20\\%. The floor uncertainty ensure we do not try to overfit late time channels when the signal to noise become sufficiently small. For systems where multiple field directions are measured for the same source, we may not want to apply a uniform percent uncertainty to all data. Doing so may cause the inversion to overfit weaker components. In this case, the uncertainty may be a percent of the amplitude of the secondary field."
   ]
  },
  {
   "cell_type": "code",
   "execution_count": 7,
   "metadata": {
    "execution": {
     "iopub.execute_input": "2025-05-23T17:58:43.846157Z",
     "iopub.status.busy": "2025-05-23T17:58:43.845872Z",
     "iopub.status.idle": "2025-05-23T17:58:43.849091Z",
     "shell.execute_reply": "2025-05-23T17:58:43.848616Z"
    }
   },
   "outputs": [],
   "source": [
    "# 5% of the absolute value\n",
    "uncertainties = 0.05 * np.abs(dobs) * np.ones(np.shape(dobs))"
   ]
  },
  {
   "cell_type": "markdown",
   "metadata": {},
   "source": [
    "## Defining the Data\n",
    "\n",
    "The SimPEG [Data](xref:simpeg#simpeg.data.Data) class is required for inversion and connects the observed data, uncertainties and survey geometry."
   ]
  },
  {
   "cell_type": "code",
   "execution_count": 8,
   "metadata": {
    "execution": {
     "iopub.execute_input": "2025-05-23T17:58:43.851468Z",
     "iopub.status.busy": "2025-05-23T17:58:43.851200Z",
     "iopub.status.idle": "2025-05-23T17:58:43.855283Z",
     "shell.execute_reply": "2025-05-23T17:58:43.854571Z"
    }
   },
   "outputs": [],
   "source": [
    "data_object = data.Data(survey, dobs=dobs, standard_deviation=uncertainties)"
   ]
  },
  {
   "cell_type": "markdown",
   "metadata": {},
   "source": [
    "## Weighted Least-Squares Inversion\n",
    "\n",
    "Here, we use the weighted least-squares inversion approach to recover the log-conductivities on a 1D layered Earth. We impose no a-priori information about the number of layers (geological units) or their thicknesses. Instead, we define a large number of layers with exponentially increasing thicknesses. And the depth, thickness and electrical properties of the Earth are inferred from the recovered model."
   ]
  },
  {
   "cell_type": "markdown",
   "metadata": {},
   "source": [
    "### Defining a 1D Layered Earth\n",
    "\n",
    "Let us assume we have a reasonable estimate of the regional conductivity within our area of interest. For the earliest time channel and the estimated conductivity, we compute the minimum diffusion distance:\n",
    "\n",
    "$$\n",
    "d_{min} \\approx 1250 \\sqrt{\\dfrac{t_{min}}{\\sigma}}\n",
    "$$\n",
    "\n",
    "The minimum layer thickness is some fraction of the minimum diffusion distance. Next, we use the latest time channel and the estimated conductivity to compute the maximum diffusion distance:\n",
    "\n",
    "$$\n",
    "d_{max} \\approx 1250 \\sqrt{\\dfrac{t_{max}}{\\sigma}}\n",
    "$$\n",
    "\n",
    "Starting from our minimum layer thickness, we continue to add layers with exponentially increasing thicknesses. We do so until the layers extend to some multiple of the maximum diffusion distance."
   ]
  },
  {
   "cell_type": "code",
   "execution_count": 9,
   "metadata": {
    "execution": {
     "iopub.execute_input": "2025-05-23T17:58:43.858129Z",
     "iopub.status.busy": "2025-05-23T17:58:43.857784Z",
     "iopub.status.idle": "2025-05-23T17:58:43.862664Z",
     "shell.execute_reply": "2025-05-23T17:58:43.862029Z"
    }
   },
   "outputs": [
    {
     "name": "stdout",
     "output_type": "stream",
     "text": [
      "MINIMUM DIFFUSION DISTANCE: 12.5 m\n",
      "MAXIMUM DIFFUSION DISTANCE: 395.28470752104744 m\n"
     ]
    }
   ],
   "source": [
    "# estimated host conductivity (S/m)\n",
    "estimated_conductivity = 0.1\n",
    "\n",
    "# minimum diffusion distance\n",
    "d_min = 1250 * np.sqrt(times.min() / estimated_conductivity)\n",
    "print(\"MINIMUM DIFFUSION DISTANCE: {} m\".format(d_min))\n",
    "\n",
    "# maximum diffusion distance\n",
    "d_max = 1250 * np.sqrt(times.max() / estimated_conductivity)\n",
    "print(\"MAXIMUM DIFFUSION DISTANCE: {} m\".format(d_max))"
   ]
  },
  {
   "cell_type": "code",
   "execution_count": 10,
   "metadata": {
    "execution": {
     "iopub.execute_input": "2025-05-23T17:58:43.865310Z",
     "iopub.status.busy": "2025-05-23T17:58:43.865016Z",
     "iopub.status.idle": "2025-05-23T17:58:43.868950Z",
     "shell.execute_reply": "2025-05-23T17:58:43.868329Z"
    }
   },
   "outputs": [],
   "source": [
    "depth_min = 1  # top layer thickness\n",
    "depth_max = 800.0  # depth to lowest layer\n",
    "geometric_factor = 1.15  # rate of thickness increase"
   ]
  },
  {
   "cell_type": "code",
   "execution_count": 11,
   "metadata": {
    "execution": {
     "iopub.execute_input": "2025-05-23T17:58:43.871832Z",
     "iopub.status.busy": "2025-05-23T17:58:43.871476Z",
     "iopub.status.idle": "2025-05-23T17:58:43.876056Z",
     "shell.execute_reply": "2025-05-23T17:58:43.875445Z"
    }
   },
   "outputs": [],
   "source": [
    "# Increase subsequent layer thicknesses by the geometric factors until\n",
    "# it reaches the maximum layer depth.\n",
    "layer_thicknesses = [depth_min]\n",
    "while np.sum(layer_thicknesses) < depth_max:\n",
    "    layer_thicknesses.append(geometric_factor * layer_thicknesses[-1])\n",
    "\n",
    "n_layers = len(layer_thicknesses) + 1  # Number of layers"
   ]
  },
  {
   "cell_type": "markdown",
   "metadata": {},
   "source": [
    "### Model and Mapping to Layer Conductivities\n",
    "\n",
    "Recall from the [1D Forward Simulation of Time-Domain EM Data for a Single Sounding](fwd_tdem_1d.ipynb) tutorial that the 'model' is not necessarily synonymous with physical property values. And that we need to define a mapping from the model to the set of input parameters required by the forward simulation. When inverting to recover electrical conductivities (or resistivities), it is best to use the log-value, as electrical conductivities of rocks span many order of magnitude.\n",
    "\n",
    "Here, the model defines the log-conductivity values for a defined set of subsurface layers. And we use the [simpeg.maps.ExpMap](xref:simpeg#simpeg.maps.ExpMap) to map from the model parameters to the conductivity values required by the forward simulation."
   ]
  },
  {
   "cell_type": "code",
   "execution_count": 12,
   "metadata": {
    "execution": {
     "iopub.execute_input": "2025-05-23T17:58:43.879061Z",
     "iopub.status.busy": "2025-05-23T17:58:43.878725Z",
     "iopub.status.idle": "2025-05-23T17:58:43.882170Z",
     "shell.execute_reply": "2025-05-23T17:58:43.881577Z"
    }
   },
   "outputs": [],
   "source": [
    "log_conductivity_map = maps.ExpMap(nP=n_layers)"
   ]
  },
  {
   "cell_type": "markdown",
   "metadata": {},
   "source": [
    "### Starting/Reference Models\n",
    "\n",
    "The **starting model** defines a reasonable starting point for the inversion. Because electromagnetic problems are non-linear, your choice in starting model does have an impact on the recovered model. For DC resistivity inversion, we generally choose our starting model based on apparent resistivities. For the tutorial example, the apparent resistivities were near 1000 $\\Omega m$. It should be noted that the starting model **cannot be vector of zeros,** otherwise the inversion will be unable to compute a gradient direction at the first iteration.\n",
    "\n",
    "The **reference model** is used to include a-priori information. The impact of the reference model on the inversion will be discussed in another tutorial. The reference model for basic inversion approaches is either zero or equal to the starting model.\n",
    "\n",
    "Notice that the length of the starting and reference models is equal to the number of model parameters!!!"
   ]
  },
  {
   "cell_type": "code",
   "execution_count": 13,
   "metadata": {
    "execution": {
     "iopub.execute_input": "2025-05-23T17:58:43.885143Z",
     "iopub.status.busy": "2025-05-23T17:58:43.884791Z",
     "iopub.status.idle": "2025-05-23T17:58:43.889354Z",
     "shell.execute_reply": "2025-05-23T17:58:43.888515Z"
    }
   },
   "outputs": [],
   "source": [
    "# Starting model is log-conductivity values (S/m)\n",
    "starting_conductivity_model = np.log(1e-1 * np.ones(n_layers))\n",
    "\n",
    "# Reference model is also log-resistivity values (S/m)\n",
    "reference_conductivity_model = starting_conductivity_model.copy()"
   ]
  },
  {
   "cell_type": "markdown",
   "metadata": {},
   "source": [
    "### Define the Forward Simulation\n",
    "\n",
    "A simulation object defining the forward problem is required in order to predict data and calculate misfits for recovered models. A comprehensive description of the simulation object for 1D DC resistivity was discussed in the [1D Forward Simulation of Time-Domain EM Data for a Single Sounding](fwd_tdem_1d.ipynb) tutorial. Here, we use the [Simulation1DLayered](xref:simpeg#simpeg.electromagnetics.time_domain.Simulation1DLayered) which simulates the data according to a 1D Hankel transform solution.\n",
    "\n",
    "The layer thicknesses are a static property of the simulation, and we set them using the ``thicknessess`` keyword argument. Since our model consists of log-conductivities, we use ``sigmaMap`` to set the mapping from the model to the layer conductivities."
   ]
  },
  {
   "cell_type": "code",
   "execution_count": 14,
   "metadata": {
    "execution": {
     "iopub.execute_input": "2025-05-23T17:58:43.892219Z",
     "iopub.status.busy": "2025-05-23T17:58:43.891820Z",
     "iopub.status.idle": "2025-05-23T17:58:43.899423Z",
     "shell.execute_reply": "2025-05-23T17:58:43.898706Z"
    }
   },
   "outputs": [],
   "source": [
    "simulation_L2 = tdem.Simulation1DLayered(\n",
    "    survey=survey, thicknesses=layer_thicknesses, sigmaMap=log_conductivity_map\n",
    ")"
   ]
  },
  {
   "cell_type": "markdown",
   "metadata": {},
   "source": [
    "### Data Misfit\n",
    "\n",
    "To understand the role of the data misfit in the inversion, please visit [this online resource](https://giftoolscookbook.readthedocs.io/en/latest/content/fundamentals/Uncertainties.html).\n",
    "Here, we use the [L2DataMisfit](xref:simpeg#simpeg.data_misfit.L2DataMisfit) class to define the data misfit. In this case, the data misfit is the L2 norm of the weighted residual between the observed data and the data predicted for a given model. When instantiating the data misfit object within SimPEG, we must assign an appropriate *data object* and *simulation object* as properties."
   ]
  },
  {
   "cell_type": "code",
   "execution_count": 15,
   "metadata": {
    "execution": {
     "iopub.execute_input": "2025-05-23T17:58:43.902312Z",
     "iopub.status.busy": "2025-05-23T17:58:43.902055Z",
     "iopub.status.idle": "2025-05-23T17:58:43.905522Z",
     "shell.execute_reply": "2025-05-23T17:58:43.904932Z"
    }
   },
   "outputs": [],
   "source": [
    "dmis_L2 = data_misfit.L2DataMisfit(simulation=simulation_L2, data=data_object)"
   ]
  },
  {
   "cell_type": "markdown",
   "metadata": {},
   "source": [
    "### Regularization\n",
    "\n",
    "To understand the role of the regularization in the inversion, please visit [this online resource](https://giftoolscookbook.readthedocs.io/en/latest/content/fundamentals/ObjectiveFunction.html). \n",
    "\n",
    "To define the regularization within SimPEG, we must define a 1D [tensor mesh](xref:discretize#discretize.TensorMesh). Meshes are designed using the [discretize package](https://discretize.simpeg.xyz). Whereas layer *thicknesses* and our *model* are defined from our top-layer down, tensor meshes are defined from the bottom up. So to define a 1D tensor mesh for the regularization, we:\n",
    "\n",
    "- add an extra layer to the end of our thicknesses so that the number of cells in the 1D mesh equals the number of model parameters\n",
    "- reverse the order so that the model parameters in the regularization match up with the appropriate cell\n",
    "- define the tensor mesh from the cell widths"
   ]
  },
  {
   "cell_type": "code",
   "execution_count": 16,
   "metadata": {
    "execution": {
     "iopub.execute_input": "2025-05-23T17:58:43.908419Z",
     "iopub.status.busy": "2025-05-23T17:58:43.908100Z",
     "iopub.status.idle": "2025-05-23T17:58:43.913936Z",
     "shell.execute_reply": "2025-05-23T17:58:43.913258Z"
    }
   },
   "outputs": [
    {
     "name": "stdout",
     "output_type": "stream",
     "text": [
      "\n",
      "  TensorMesh: 36 cells\n",
      "\n",
      "                      MESH EXTENT             CELL WIDTH      FACTOR\n",
      "  dir    nC        min           max         min       max      max\n",
      "  ---   ---  ---------------------------  ------------------  ------\n",
      "   x     36       -996.97         -0.00      1.00    115.80    1.15\n",
      "\n",
      "\n"
     ]
    }
   ],
   "source": [
    "# Define 1D cell widths\n",
    "h = np.r_[layer_thicknesses, layer_thicknesses[-1]]\n",
    "h = np.flipud(h)\n",
    "\n",
    "# Create regularization mesh\n",
    "regularization_mesh = TensorMesh([h], \"N\")\n",
    "print(regularization_mesh)"
   ]
  },
  {
   "cell_type": "markdown",
   "metadata": {},
   "source": [
    "By default, the regularization acts on the model parameters. In this case, the model parameters are the log-resistivities, not the electric resistivities!!! Here, we use the [WeightedLeastSquares](xref:simpeg#simpeg.regularization.WeightedLeastSquares) regularization class to constrain the inversion result. Here, length scale along x are used to balance the smallness and smoothness terms; yes, x is smoothness along the vertical direction. And the reference model is only applied to the smallness term. If we wanted to apply the regularization to a function of the model parameters, we would need to set an approprate mapping object using the ``mapping`` keyword argument."
   ]
  },
  {
   "cell_type": "code",
   "execution_count": 17,
   "metadata": {
    "execution": {
     "iopub.execute_input": "2025-05-23T17:58:43.917320Z",
     "iopub.status.busy": "2025-05-23T17:58:43.917006Z",
     "iopub.status.idle": "2025-05-23T17:58:43.924591Z",
     "shell.execute_reply": "2025-05-23T17:58:43.923807Z"
    }
   },
   "outputs": [],
   "source": [
    "reg_L2 = regularization.WeightedLeastSquares(\n",
    "    regularization_mesh,\n",
    "    length_scale_x=10.0,\n",
    "    reference_model=reference_conductivity_model,\n",
    "    reference_model_in_smooth=False,\n",
    ")"
   ]
  },
  {
   "cell_type": "markdown",
   "metadata": {},
   "source": [
    "### Optimization\n",
    "\n",
    "Here, we use the [InexactGaussNewton](xref:simpeg#simpeg.optimization.InexactGaussNewton) class to solve the optimization problem using the inexact Gauss Newton with conjugate gradient solver. Reasonable default values have generally been set for the properties of each optimization class. However, the user may choose to set custom values; e.g. the accuracy tolerance for the conjugate gradient solver or the number of line searches."
   ]
  },
  {
   "cell_type": "code",
   "execution_count": 18,
   "metadata": {
    "execution": {
     "iopub.execute_input": "2025-05-23T17:58:43.927427Z",
     "iopub.status.busy": "2025-05-23T17:58:43.927088Z",
     "iopub.status.idle": "2025-05-23T17:58:43.930603Z",
     "shell.execute_reply": "2025-05-23T17:58:43.930004Z"
    }
   },
   "outputs": [],
   "source": [
    "opt_L2 = optimization.InexactGaussNewton(\n",
    "    maxIter=100, maxIterLS=20, maxIterCG=20, tolCG=1e-3\n",
    ")"
   ]
  },
  {
   "cell_type": "markdown",
   "metadata": {},
   "source": [
    "### Inverse Problem\n",
    "\n",
    "We use the [BaseInvProblem](xref:simpeg#simpeg.inverse_problem.BaseInvProblem) class to fully define the inverse problem that is solved at each beta (trade-off parameter) iteration. The inverse problem requires appropriate *data misfit*, *regularization* and *optimization* objects."
   ]
  },
  {
   "cell_type": "code",
   "execution_count": 19,
   "metadata": {
    "execution": {
     "iopub.execute_input": "2025-05-23T17:58:43.933944Z",
     "iopub.status.busy": "2025-05-23T17:58:43.933586Z",
     "iopub.status.idle": "2025-05-23T17:58:43.937116Z",
     "shell.execute_reply": "2025-05-23T17:58:43.936499Z"
    }
   },
   "outputs": [],
   "source": [
    "inv_prob_L2 = inverse_problem.BaseInvProblem(dmis_L2, reg_L2, opt_L2)"
   ]
  },
  {
   "cell_type": "markdown",
   "metadata": {},
   "source": [
    "### Inversion Directives\n",
    "\n",
    "To understand the role of directives in the inversion, please visit this online resource. Here, we apply common directives for weighted least-squares inversion of gravity data and describe their roles. These are:\n",
    "\n",
    "- [UpdatePreconditioner](xref:simpeg#simpeg.directives.UpdatePreconditioner): Apply Jacobi preconditioner when solving optimization problem to reduce the number of conjugate gradient iterations. We set `update_every_iteration=True` because the ideal preconditioner is model-dependent.\n",
    "\n",
    "- [BetaEstimate_ByEig](xref:simpeg#simpeg.directives.BetaEstimate_ByEig): Compute and set starting trade-off parameter (beta) based on largest eigenvalues.\n",
    "\n",
    "- [BetaSchedule](xref:simpeg#simpeg.directives.BetaSchedule): Size reduction of the trade-off parameter at every beta iteration, and the number of Gauss-Newton iterations for each beta. In general, a `coolingFactor` between 1.5 and 2.5, and `coolingRate` of 3 works well for TDEM inversion. Cooling beta too quickly will result in portions of the model getting trapped in local minima. And we will not be finding the solution that minimizes the optimization problem if the cooling rate is too small.\n",
    "\n",
    "- [TargetMisfit](xref:simpeg#simpeg.directives.TargetMisfit): Terminates the inversion when the data misfit equals the target misfit. A `chifact=1` terminates the inversion when the data misfit equals the number of data.\n",
    "\n",
    "\n",
    "The directive objects are organized in a ``list``. Upon starting the inversion or updating the recovered model at each iteration, the inversion will call each directive within the list **in order**. The order of the directives matters, and SimPEG will throw an error if directives are organized into an improper order. Some directives, like the ``BetaEstimate_ByEig`` are only used when starting the inversion. Other directives, like ``UpdatePreconditionner``, are used whenever the model is updated."
   ]
  },
  {
   "cell_type": "code",
   "execution_count": 20,
   "metadata": {
    "execution": {
     "iopub.execute_input": "2025-05-23T17:58:43.940009Z",
     "iopub.status.busy": "2025-05-23T17:58:43.939650Z",
     "iopub.status.idle": "2025-05-23T17:58:43.944514Z",
     "shell.execute_reply": "2025-05-23T17:58:43.943673Z"
    }
   },
   "outputs": [],
   "source": [
    "update_jacobi = directives.UpdatePreconditioner(update_every_iteration=True)\n",
    "starting_beta = directives.BetaEstimate_ByEig(beta0_ratio=5)\n",
    "beta_schedule = directives.BetaSchedule(coolingFactor=2.0, coolingRate=3)\n",
    "target_misfit = directives.TargetMisfit(chifact=1.0)\n",
    "\n",
    "directives_list_L2 = [update_jacobi, starting_beta, beta_schedule, target_misfit]"
   ]
  },
  {
   "cell_type": "markdown",
   "metadata": {},
   "source": [
    "### Define and Run the Inversion\n",
    "\n",
    "We define the inversion using the [BaseInversion](xref:simpeg#simpeg.inversion.BaseInversion) class. The inversion class must be instantiated with an appropriate *inverse problem* object and *directives list*. The ``run`` method, along with a starting model, is respondible for running the inversion. The output is a 1D numpy.ndarray containing the recovered model parameters"
   ]
  },
  {
   "cell_type": "code",
   "execution_count": 21,
   "metadata": {
    "execution": {
     "iopub.execute_input": "2025-05-23T17:58:43.947427Z",
     "iopub.status.busy": "2025-05-23T17:58:43.947071Z",
     "iopub.status.idle": "2025-05-23T17:58:49.003158Z",
     "shell.execute_reply": "2025-05-23T17:58:49.002506Z"
    },
    "scrolled": false
   },
   "outputs": [
    {
     "name": "stdout",
     "output_type": "stream",
     "text": [
      "\n",
      "Running inversion with SimPEG v0.24.0\n",
      "\n",
      "                    simpeg.InvProblem is setting bfgsH0 to the inverse of the eval2Deriv.\n",
      "                    ***Done using the default solver Pardiso and no solver_opts.***\n",
      "                    \n"
     ]
    },
    {
     "name": "stdout",
     "output_type": "stream",
     "text": [
      "model has any nan: 0\n",
      "============================ Inexact Gauss Newton ============================\n",
      "  #     beta     phi_d     phi_m       f      |proj(x-g)-x|  LS    Comment   \n",
      "-----------------------------------------------------------------------------\n",
      "x0 has any nan: 0\n",
      "   0  1.39e+01  4.53e+03  0.00e+00  4.53e+03    8.55e+02      0              \n"
     ]
    },
    {
     "name": "stdout",
     "output_type": "stream",
     "text": [
      "   1  1.39e+01  3.46e+03  2.83e+01  3.86e+03    2.73e+02      0              \n"
     ]
    },
    {
     "name": "stdout",
     "output_type": "stream",
     "text": [
      "   2  1.39e+01  3.01e+03  5.26e+01  3.74e+03    1.40e+02      0   Skip BFGS  \n"
     ]
    },
    {
     "name": "stdout",
     "output_type": "stream",
     "text": [
      "   3  6.94e+00  2.78e+03  6.72e+01  3.25e+03    5.06e+02      0   Skip BFGS  \n"
     ]
    },
    {
     "name": "stdout",
     "output_type": "stream",
     "text": [
      "   4  6.94e+00  1.40e+03  1.78e+02  2.64e+03    3.23e+02      0              \n"
     ]
    },
    {
     "name": "stdout",
     "output_type": "stream",
     "text": [
      "   5  6.94e+00  8.41e+02  2.32e+02  2.45e+03    1.90e+02      0   Skip BFGS  \n"
     ]
    },
    {
     "name": "stdout",
     "output_type": "stream",
     "text": [
      "   6  3.47e+00  6.20e+02  2.53e+02  1.50e+03    5.03e+02      0   Skip BFGS  \n"
     ]
    },
    {
     "name": "stdout",
     "output_type": "stream",
     "text": [
      "   7  3.47e+00  1.72e+02  3.23e+02  1.29e+03    1.22e+02      0              \n"
     ]
    },
    {
     "name": "stdout",
     "output_type": "stream",
     "text": [
      "   8  3.47e+00  1.22e+02  3.22e+02  1.24e+03    9.65e+01      0              \n"
     ]
    },
    {
     "name": "stdout",
     "output_type": "stream",
     "text": [
      "   9  1.73e+00  1.01e+02  3.19e+02  6.54e+02    2.13e+02      0   Skip BFGS  \n"
     ]
    },
    {
     "name": "stdout",
     "output_type": "stream",
     "text": [
      "  10  1.73e+00  4.33e+01  3.35e+02  6.24e+02    1.48e+02      0              \n"
     ]
    },
    {
     "name": "stdout",
     "output_type": "stream",
     "text": [
      "  11  1.73e+00  4.03e+01  3.29e+02  6.10e+02    6.87e+01      0              \n"
     ]
    },
    {
     "name": "stdout",
     "output_type": "stream",
     "text": [
      "  12  8.67e-01  4.17e+01  3.25e+02  3.24e+02    1.19e+02      0   Skip BFGS  \n"
     ]
    },
    {
     "name": "stdout",
     "output_type": "stream",
     "text": [
      "------------------------- STOP! -------------------------\n",
      "1 : |fc-fOld| = 0.0000e+00 <= tolF*(1+|f0|) = 4.5289e+02\n",
      "1 : |xc-x_last| = 2.5379e-01 <= tolX*(1+|x0|) = 1.4816e+00\n",
      "0 : |proj(x-g)-x|    = 1.1857e+02 <= tolG          = 1.0000e-01\n",
      "0 : |proj(x-g)-x|    = 1.1857e+02 <= 1e3*eps       = 1.0000e-02\n",
      "0 : maxIter   =     100    <= iter          =     13\n",
      "------------------------- DONE! -------------------------\n"
     ]
    }
   ],
   "source": [
    "# Here we combine the inverse problem and the set of directives\n",
    "inv_L2 = inversion.BaseInversion(inv_prob_L2, directives_list_L2)\n",
    "\n",
    "# Run the inversion\n",
    "recovered_model_L2 = inv_L2.run(starting_conductivity_model)"
   ]
  },
  {
   "cell_type": "markdown",
   "metadata": {},
   "source": [
    "## Inversion Outputs"
   ]
  },
  {
   "cell_type": "markdown",
   "metadata": {},
   "source": [
    "### Data Misfit"
   ]
  },
  {
   "cell_type": "code",
   "execution_count": 22,
   "metadata": {
    "execution": {
     "iopub.execute_input": "2025-05-23T17:58:49.006842Z",
     "iopub.status.busy": "2025-05-23T17:58:49.006595Z",
     "iopub.status.idle": "2025-05-23T17:58:49.516838Z",
     "shell.execute_reply": "2025-05-23T17:58:49.516049Z"
    }
   },
   "outputs": [
    {
     "data": {
      "image/png": "[encoded data removed]",
      "text/plain": [
       "<Figure size 500x500 with 1 Axes>"
      ]
     },
     "metadata": {},
     "output_type": "display_data"
    }
   ],
   "source": [
    "dpred_L2 = simulation_L2.dpred(recovered_model_L2)\n",
    "\n",
    "fig = plt.figure(figsize=(5, 5))\n",
    "ax1 = fig.add_axes([0.15, 0.15, 0.8, 0.75])\n",
    "ax1.loglog(times, np.abs(dobs), \"k-o\")\n",
    "ax1.loglog(times, np.abs(dpred_L2), \"b-o\")\n",
    "ax1.grid(which=\"both\")\n",
    "ax1.set_xlabel(\"times (s)\")\n",
    "ax1.set_ylabel(\"Bz (T)\")\n",
    "ax1.set_title(\"Predicted and Observed Data\")\n",
    "ax1.legend([\"Observed\", \"L2 Inversion\"], loc=\"upper right\")\n",
    "plt.show()"
   ]
  },
  {
   "cell_type": "markdown",
   "metadata": {},
   "source": [
    "### Recovered Model"
   ]
  },
  {
   "cell_type": "code",
   "execution_count": 23,
   "metadata": {
    "execution": {
     "iopub.execute_input": "2025-05-23T17:58:49.520503Z",
     "iopub.status.busy": "2025-05-23T17:58:49.520236Z",
     "iopub.status.idle": "2025-05-23T17:58:49.524052Z",
     "shell.execute_reply": "2025-05-23T17:58:49.523490Z"
    }
   },
   "outputs": [],
   "source": [
    "# Load the true model and layer thicknesses\n",
    "true_conductivities = np.array([0.1, 1.0, 0.1])\n",
    "true_layers = np.r_[40.0, 40.0, 160.0]"
   ]
  },
  {
   "cell_type": "code",
   "execution_count": 24,
   "metadata": {
    "execution": {
     "iopub.execute_input": "2025-05-23T17:58:49.527186Z",
     "iopub.status.busy": "2025-05-23T17:58:49.526908Z",
     "iopub.status.idle": "2025-05-23T17:58:49.721990Z",
     "shell.execute_reply": "2025-05-23T17:58:49.721358Z"
    }
   },
   "outputs": [
    {
     "data": {
      "image/png": "[encoded data removed]",
      "text/plain": [
       "<Figure size 600x600 with 1 Axes>"
      ]
     },
     "metadata": {},
     "output_type": "display_data"
    }
   ],
   "source": [
    "# Plot true model and recovered model\n",
    "fig = plt.figure(figsize=(6, 6))\n",
    "\n",
    "ax1 = fig.add_axes([0.2, 0.15, 0.7, 0.7])\n",
    "plot_1d_layer_model(true_layers, true_conductivities, ax=ax1, color=\"k\")\n",
    "plot_1d_layer_model(\n",
    "    layer_thicknesses, log_conductivity_map * recovered_model_L2, ax=ax1, color=\"b\"\n",
    ")\n",
    "ax1.grid()\n",
    "ax1.set_xlabel(r\"Resistivity ($\\Omega m$)\")\n",
    "x_min, x_max = true_conductivities.min(), true_conductivities.max()\n",
    "ax1.set_xlim(0.8 * x_min, 1.5 * x_max)\n",
    "ax1.set_ylim([np.sum(true_layers), 0])\n",
    "ax1.legend([\"True Model\", \"L2-Model\"])\n",
    "plt.show()"
   ]
  },
  {
   "cell_type": "markdown",
   "metadata": {},
   "source": [
    "## Iteratively Re-weighted Least-Squares Inversion\n",
    "\n",
    "Here, we use the iteratively reweighted least-squares (IRLS) inversion approach to recover sparse and/or blocky models on the set layers."
   ]
  },
  {
   "cell_type": "markdown",
   "metadata": {},
   "source": [
    "### Define the Forward Simulation"
   ]
  },
  {
   "cell_type": "code",
   "execution_count": 25,
   "metadata": {
    "execution": {
     "iopub.execute_input": "2025-05-23T17:58:49.725304Z",
     "iopub.status.busy": "2025-05-23T17:58:49.725066Z",
     "iopub.status.idle": "2025-05-23T17:58:49.728997Z",
     "shell.execute_reply": "2025-05-23T17:58:49.728462Z"
    }
   },
   "outputs": [],
   "source": [
    "simulation_irls = tdem.simulation_1d.Simulation1DLayered(\n",
    "    survey=survey,\n",
    "    sigmaMap=log_conductivity_map,\n",
    "    thicknesses=layer_thicknesses,\n",
    ")"
   ]
  },
  {
   "cell_type": "markdown",
   "metadata": {},
   "source": [
    "### Define the Data Misfit"
   ]
  },
  {
   "cell_type": "code",
   "execution_count": 26,
   "metadata": {
    "execution": {
     "iopub.execute_input": "2025-05-23T17:58:49.732230Z",
     "iopub.status.busy": "2025-05-23T17:58:49.731916Z",
     "iopub.status.idle": "2025-05-23T17:58:49.735170Z",
     "shell.execute_reply": "2025-05-23T17:58:49.734662Z"
    }
   },
   "outputs": [],
   "source": [
    "dmis_irls = data_misfit.L2DataMisfit(simulation=simulation_irls, data=data_object)"
   ]
  },
  {
   "cell_type": "markdown",
   "metadata": {},
   "source": [
    "### Regularization\n",
    "\n",
    "Here, we use the [Sparse](xref:simpeg#simpeg.regularization.Sparse) regularization class to constrain the inversion result using an IRLS approach. Here, the scaling constants that balance the smallness and smoothness terms are set directly. Equal emphasis on smallness and smoothness is generally applied by using the inverse square of the smallest cell dimension. The reference model is only applied to the smallness term; which is redundant for the tutorial example since we have set the reference model to an array of zeros. Here, we apply a 1-norm to the smallness term and a 1-norm to first-order smoothness along the x (vertical direction)."
   ]
  },
  {
   "cell_type": "code",
   "execution_count": 27,
   "metadata": {
    "execution": {
     "iopub.execute_input": "2025-05-23T17:58:49.737483Z",
     "iopub.status.busy": "2025-05-23T17:58:49.737202Z",
     "iopub.status.idle": "2025-05-23T17:58:49.743109Z",
     "shell.execute_reply": "2025-05-23T17:58:49.742499Z"
    }
   },
   "outputs": [],
   "source": [
    "reg_irls = regularization.Sparse(\n",
    "    regularization_mesh,\n",
    "    alpha_s=0.01,\n",
    "    alpha_x=1,\n",
    "    reference_model_in_smooth=False,\n",
    "    norms=[1.0, 1.0],\n",
    ")"
   ]
  },
  {
   "cell_type": "markdown",
   "metadata": {},
   "source": [
    "### Optimization"
   ]
  },
  {
   "cell_type": "code",
   "execution_count": 28,
   "metadata": {
    "execution": {
     "iopub.execute_input": "2025-05-23T17:58:49.745622Z",
     "iopub.status.busy": "2025-05-23T17:58:49.745298Z",
     "iopub.status.idle": "2025-05-23T17:58:49.748878Z",
     "shell.execute_reply": "2025-05-23T17:58:49.748207Z"
    }
   },
   "outputs": [],
   "source": [
    "opt_irls = optimization.InexactGaussNewton(\n",
    "    maxIter=100, maxIterLS=20, maxIterCG=30, tolCG=1e-3\n",
    ")"
   ]
  },
  {
   "cell_type": "markdown",
   "metadata": {},
   "source": [
    "### Inverse Problem"
   ]
  },
  {
   "cell_type": "code",
   "execution_count": 29,
   "metadata": {
    "execution": {
     "iopub.execute_input": "2025-05-23T17:58:49.751667Z",
     "iopub.status.busy": "2025-05-23T17:58:49.751328Z",
     "iopub.status.idle": "2025-05-23T17:58:49.755161Z",
     "shell.execute_reply": "2025-05-23T17:58:49.754358Z"
    }
   },
   "outputs": [],
   "source": [
    "inv_prob_irls = inverse_problem.BaseInvProblem(dmis_irls, reg_irls, opt_irls)"
   ]
  },
  {
   "cell_type": "markdown",
   "metadata": {},
   "source": [
    "### Directives\n",
    "\n",
    "Here, we create common directives for IRLS inversion of total magnetic intensity data and describe their roles. In additon to the [UpdateSensitivityWeights](xref:simpeg#simpeg.directives.UpdateSensitivityWeights), [UpdatePreconditioner](xref:simpeg#simpeg.directives.UpdatePreconditioner) and [BetaEstimate_ByEig](xref:simpeg#simpeg.directives.BetaEstimate_ByEig)  (described before), inversion with sparse-norms requires the [`UpdateIRLS`](xref:simpeg#simpeg.directives.UpdateIRLS) directive.\n",
    "\n",
    "You will notice that we don't use the [BetaSchedule](xref:simpeg#simpeg.directives.BetaSchedule) and [TargetMisfit](xref:simpeg#simpeg.directives.TargetMisfit) directives. Here, the beta cooling schedule is set in the [`UpdateIRLS`](xref:simpeg#simpeg.directives.UpdateIRLS) directive using the `coolingFactor` and `coolingRate` properties. The target misfit for the L2 portion of the IRLS approach is set with the `chifact_start` property."
   ]
  },
  {
   "cell_type": "code",
   "execution_count": 30,
   "metadata": {
    "execution": {
     "iopub.execute_input": "2025-05-23T17:58:49.758077Z",
     "iopub.status.busy": "2025-05-23T17:58:49.757720Z",
     "iopub.status.idle": "2025-05-23T17:58:49.763342Z",
     "shell.execute_reply": "2025-05-23T17:58:49.762670Z"
    }
   },
   "outputs": [],
   "source": [
    "sensitivity_weights_irls = directives.UpdateSensitivityWeights(every_iteration=True)\n",
    "starting_beta_irls = directives.BetaEstimate_ByEig(beta0_ratio=1)\n",
    "update_jacobi_irls = directives.UpdatePreconditioner(update_every_iteration=True)\n",
    "update_irls = directives.UpdateIRLS(\n",
    "    cooling_factor=2,\n",
    "    cooling_rate=2,\n",
    "    f_min_change=1e-4,\n",
    "    max_irls_iterations=40,\n",
    "    chifact_start=1.0,\n",
    ")\n",
    "\n",
    "directives_list_irls = [\n",
    "    update_irls,\n",
    "    sensitivity_weights_irls,\n",
    "    starting_beta_irls,\n",
    "    update_jacobi_irls,\n",
    "]"
   ]
  },
  {
   "cell_type": "markdown",
   "metadata": {},
   "source": [
    "### Define and Run the Inversion"
   ]
  },
  {
   "cell_type": "code",
   "execution_count": 31,
   "metadata": {
    "execution": {
     "iopub.execute_input": "2025-05-23T17:58:49.766368Z",
     "iopub.status.busy": "2025-05-23T17:58:49.766034Z",
     "iopub.status.idle": "2025-05-23T17:59:20.802908Z",
     "shell.execute_reply": "2025-05-23T17:59:20.802207Z"
    }
   },
   "outputs": [
    {
     "name": "stdout",
     "output_type": "stream",
     "text": [
      "\n",
      "Running inversion with SimPEG v0.24.0\n",
      "simpeg.InvProblem will set Regularization.reference_model to m0.\n",
      "simpeg.InvProblem will set Regularization.reference_model to m0.\n",
      "\n",
      "                    simpeg.InvProblem is setting bfgsH0 to the inverse of the eval2Deriv.\n",
      "                    ***Done using the default solver Pardiso and no solver_opts.***\n",
      "                    \n"
     ]
    },
    {
     "name": "stdout",
     "output_type": "stream",
     "text": [
      "model has any nan: 0\n",
      "============================ Inexact Gauss Newton ============================\n",
      "  #     beta     phi_d     phi_m       f      |proj(x-g)-x|  LS    Comment   \n",
      "-----------------------------------------------------------------------------\n",
      "x0 has any nan: 0\n",
      "   0  1.41e+03  4.53e+03  0.00e+00  4.53e+03    8.55e+02      0              \n"
     ]
    },
    {
     "name": "stdout",
     "output_type": "stream",
     "text": [
      "   1  1.41e+03  3.05e+03  4.23e-01  3.65e+03    3.07e+02      0              \n"
     ]
    },
    {
     "name": "stdout",
     "output_type": "stream",
     "text": [
      "   2  7.07e+02  2.55e+03  7.24e-01  3.06e+03    5.37e+02      0   Skip BFGS  \n"
     ]
    },
    {
     "name": "stdout",
     "output_type": "stream",
     "text": [
      "   3  7.07e+02  1.15e+03  1.62e+00  2.29e+03    3.87e+02      0              \n"
     ]
    },
    {
     "name": "stdout",
     "output_type": "stream",
     "text": [
      "   4  3.53e+02  5.85e+02  2.14e+00  1.34e+03    4.95e+02      0   Skip BFGS  \n"
     ]
    },
    {
     "name": "stdout",
     "output_type": "stream",
     "text": [
      "   5  3.53e+02  1.49e+02  2.60e+00  1.07e+03    5.72e+01      0              \n"
     ]
    },
    {
     "name": "stdout",
     "output_type": "stream",
     "text": [
      "   6  1.77e+02  1.17e+02  2.68e+00  5.90e+02    2.12e+02      0              \n"
     ]
    },
    {
     "name": "stdout",
     "output_type": "stream",
     "text": [
      "   7  1.77e+02  4.90e+01  2.78e+00  5.40e+02    1.47e+01      0              \n"
     ]
    },
    {
     "name": "stdout",
     "output_type": "stream",
     "text": [
      "   8  8.83e+01  4.53e+01  2.81e+00  2.93e+02    1.08e+02      0   Skip BFGS  \n",
      "Reached starting chifact with l2-norm regularization: Start IRLS steps...\n",
      "irls_threshold 2.354258827646664\n"
     ]
    },
    {
     "name": "stdout",
     "output_type": "stream",
     "text": [
      "   9  8.83e+01  2.43e+01  3.04e+00  2.93e+02    2.70e+01      0              \n"
     ]
    },
    {
     "name": "stdout",
     "output_type": "stream",
     "text": [
      "  10  1.20e+02  2.24e+01  2.89e+00  3.69e+02    4.79e+01      0              \n"
     ]
    },
    {
     "name": "stdout",
     "output_type": "stream",
     "text": [
      "  11  1.20e+02  2.65e+01  2.96e+00  3.82e+02    1.02e+01      0              \n"
     ]
    },
    {
     "name": "stdout",
     "output_type": "stream",
     "text": [
      "  12  1.49e+02  2.67e+01  2.90e+00  4.58e+02    3.44e+01      0              \n"
     ]
    },
    {
     "name": "stdout",
     "output_type": "stream",
     "text": [
      "  13  1.49e+02  3.08e+01  2.95e+00  4.69e+02    8.82e+00      0              \n"
     ]
    },
    {
     "name": "stdout",
     "output_type": "stream",
     "text": [
      "  14  1.84e+02  3.09e+01  2.91e+00  5.67e+02    4.32e+01      0              \n"
     ]
    },
    {
     "name": "stdout",
     "output_type": "stream",
     "text": [
      "  15  1.84e+02  3.64e+01  2.94e+00  5.79e+02    1.08e+01      0              \n"
     ]
    },
    {
     "name": "stdout",
     "output_type": "stream",
     "text": [
      "  16  1.16e+02  3.67e+01  2.91e+00  3.74e+02    9.01e+01      0              \n"
     ]
    },
    {
     "name": "stdout",
     "output_type": "stream",
     "text": [
      "  17  1.16e+02  2.51e+01  2.99e+00  3.72e+02    4.47e+00      0              \n"
     ]
    },
    {
     "name": "stdout",
     "output_type": "stream",
     "text": [
      "  18  1.52e+02  2.40e+01  2.94e+00  4.72e+02    4.46e+01      0              \n"
     ]
    },
    {
     "name": "stdout",
     "output_type": "stream",
     "text": [
      "  19  1.52e+02  2.82e+01  2.98e+00  4.81e+02    9.03e+00      0              \n"
     ]
    },
    {
     "name": "stdout",
     "output_type": "stream",
     "text": [
      "  20  2.00e+02  2.82e+01  2.95e+00  6.18e+02    5.99e+01      0              \n"
     ]
    },
    {
     "name": "stdout",
     "output_type": "stream",
     "text": [
      "  21  2.00e+02  3.47e+01  2.97e+00  6.28e+02    1.15e+01      0              \n"
     ]
    },
    {
     "name": "stdout",
     "output_type": "stream",
     "text": [
      "  22  1.28e+02  3.51e+01  2.96e+00  4.12e+02    9.51e+01      0              \n"
     ]
    },
    {
     "name": "stdout",
     "output_type": "stream",
     "text": [
      "  23  1.28e+02  2.47e+01  3.01e+00  4.09e+02    4.49e+00      0              \n"
     ]
    },
    {
     "name": "stdout",
     "output_type": "stream",
     "text": [
      "  24  1.69e+02  2.37e+01  2.99e+00  5.28e+02    5.19e+01      0   Skip BFGS  \n"
     ]
    },
    {
     "name": "stdout",
     "output_type": "stream",
     "text": [
      "  25  1.69e+02  2.80e+01  3.01e+00  5.35e+02    8.13e+00      0              \n"
     ]
    },
    {
     "name": "stdout",
     "output_type": "stream",
     "text": [
      "  26  2.23e+02  2.82e+01  3.00e+00  6.96e+02    7.05e+01      0              \n"
     ]
    },
    {
     "name": "stdout",
     "output_type": "stream",
     "text": [
      "  27  2.23e+02  3.54e+01  3.00e+00  7.03e+02    1.07e+01      0              \n"
     ]
    },
    {
     "name": "stdout",
     "output_type": "stream",
     "text": [
      "  28  1.41e+02  3.61e+01  3.00e+00  4.58e+02    1.07e+02      0              \n"
     ]
    },
    {
     "name": "stdout",
     "output_type": "stream",
     "text": [
      "  29  1.41e+02  2.48e+01  3.04e+00  4.53e+02    5.45e+00      0              \n"
     ]
    },
    {
     "name": "stdout",
     "output_type": "stream",
     "text": [
      "  30  1.85e+02  2.39e+01  3.03e+00  5.85e+02    5.71e+01      0   Skip BFGS  \n"
     ]
    },
    {
     "name": "stdout",
     "output_type": "stream",
     "text": [
      "  31  1.85e+02  2.87e+01  3.03e+00  5.90e+02    7.48e+00      0              \n"
     ]
    },
    {
     "name": "stdout",
     "output_type": "stream",
     "text": [
      "  32  2.43e+02  2.89e+01  3.04e+00  7.67e+02    7.74e+01      0              \n"
     ]
    },
    {
     "name": "stdout",
     "output_type": "stream",
     "text": [
      "  33  2.43e+02  3.71e+01  3.02e+00  7.71e+02    1.03e+01      0              \n"
     ]
    },
    {
     "name": "stdout",
     "output_type": "stream",
     "text": [
      "  34  1.51e+02  3.79e+01  3.03e+00  4.95e+02    1.21e+02      0   Skip BFGS  \n"
     ]
    },
    {
     "name": "stdout",
     "output_type": "stream",
     "text": [
      "  35  1.51e+02  2.51e+01  3.07e+00  4.88e+02    6.33e+00      0              \n"
     ]
    },
    {
     "name": "stdout",
     "output_type": "stream",
     "text": [
      "  36  1.96e+02  2.44e+01  3.07e+00  6.27e+02    6.00e+01      0   Skip BFGS  \n"
     ]
    },
    {
     "name": "stdout",
     "output_type": "stream",
     "text": [
      "  37  1.96e+02  2.94e+01  3.06e+00  6.30e+02    7.30e+00      0              \n"
     ]
    },
    {
     "name": "stdout",
     "output_type": "stream",
     "text": [
      "  38  2.56e+02  2.98e+01  3.07e+00  8.15e+02    8.06e+01      0              \n"
     ]
    },
    {
     "name": "stdout",
     "output_type": "stream",
     "text": [
      "  39  2.56e+02  3.86e+01  3.04e+00  8.17e+02    1.03e+01      0              \n"
     ]
    },
    {
     "name": "stdout",
     "output_type": "stream",
     "text": [
      "  40  1.56e+02  3.96e+01  3.06e+00  5.17e+02    1.31e+02      0   Skip BFGS  \n"
     ]
    },
    {
     "name": "stdout",
     "output_type": "stream",
     "text": [
      "  41  1.56e+02  2.54e+01  3.10e+00  5.09e+02    6.92e+00      0              \n"
     ]
    },
    {
     "name": "stdout",
     "output_type": "stream",
     "text": [
      "  42  2.02e+02  2.47e+01  3.10e+00  6.51e+02    6.12e+01      0   Skip BFGS  \n"
     ]
    },
    {
     "name": "stdout",
     "output_type": "stream",
     "text": [
      "  43  2.02e+02  2.99e+01  3.09e+00  6.53e+02    7.46e+00      0              \n"
     ]
    },
    {
     "name": "stdout",
     "output_type": "stream",
     "text": [
      "  44  2.61e+02  3.04e+01  3.10e+00  8.40e+02    8.18e+01      0              \n"
     ]
    },
    {
     "name": "stdout",
     "output_type": "stream",
     "text": [
      "  45  2.61e+02  3.95e+01  3.07e+00  8.41e+02    1.06e+01      0              \n"
     ]
    },
    {
     "name": "stdout",
     "output_type": "stream",
     "text": [
      "  46  1.58e+02  4.06e+01  3.09e+00  5.28e+02    1.36e+02      0   Skip BFGS  \n"
     ]
    },
    {
     "name": "stdout",
     "output_type": "stream",
     "text": [
      "  47  1.58e+02  2.56e+01  3.13e+00  5.20e+02    7.30e+00      0              \n"
     ]
    },
    {
     "name": "stdout",
     "output_type": "stream",
     "text": [
      "  48  2.03e+02  2.50e+01  3.14e+00  6.63e+02    6.17e+01      0   Skip BFGS  \n"
     ]
    },
    {
     "name": "stdout",
     "output_type": "stream",
     "text": [
      "  49  2.03e+02  3.03e+01  3.12e+00  6.64e+02    7.79e+00      0              \n"
     ]
    },
    {
     "name": "stdout",
     "output_type": "stream",
     "text": [
      "  50  2.61e+02  3.09e+01  3.15e+00  8.52e+02    8.25e+01      0   Skip BFGS  \n"
     ]
    },
    {
     "name": "stdout",
     "output_type": "stream",
     "text": [
      "  51  2.61e+02  4.02e+01  3.11e+00  8.52e+02    1.10e+01      0              \n"
     ]
    },
    {
     "name": "stdout",
     "output_type": "stream",
     "text": [
      "  52  1.57e+02  4.12e+01  3.15e+00  5.34e+02    1.37e+02      0   Skip BFGS  \n"
     ]
    },
    {
     "name": "stdout",
     "output_type": "stream",
     "text": [
      "  53  1.57e+02  2.59e+01  3.18e+00  5.24e+02    7.62e+00      0              \n"
     ]
    },
    {
     "name": "stdout",
     "output_type": "stream",
     "text": [
      "  54  2.00e+02  2.53e+01  3.21e+00  6.67e+02    6.15e+01      0   Skip BFGS  \n",
      "  55  2.00e+02  3.07e+01  3.18e+00  6.67e+02    8.19e+00      0              \n"
     ]
    },
    {
     "name": "stdout",
     "output_type": "stream",
     "text": [
      "  56  2.55e+02  3.13e+01  3.21e+00  8.50e+02    8.04e+01      0   Skip BFGS  \n"
     ]
    },
    {
     "name": "stdout",
     "output_type": "stream",
     "text": [
      "  57  2.55e+02  4.05e+01  3.16e+00  8.48e+02    1.09e+01      0              \n"
     ]
    },
    {
     "name": "stdout",
     "output_type": "stream",
     "text": [
      "  58  1.53e+02  4.14e+01  3.18e+00  5.29e+02    1.36e+02      0   Skip BFGS  \n"
     ]
    },
    {
     "name": "stdout",
     "output_type": "stream",
     "text": [
      "  59  1.53e+02  2.60e+01  3.22e+00  5.19e+02    7.45e+00      0              \n"
     ]
    },
    {
     "name": "stdout",
     "output_type": "stream",
     "text": [
      "  60  1.95e+02  2.55e+01  3.23e+00  6.55e+02    5.89e+01      0   Skip BFGS  \n"
     ]
    },
    {
     "name": "stdout",
     "output_type": "stream",
     "text": [
      "  61  1.95e+02  3.07e+01  3.21e+00  6.55e+02    8.04e+00      0              \n"
     ]
    },
    {
     "name": "stdout",
     "output_type": "stream",
     "text": [
      "  62  2.48e+02  3.13e+01  3.23e+00  8.30e+02    7.67e+01      0              \n"
     ]
    },
    {
     "name": "stdout",
     "output_type": "stream",
     "text": [
      "  63  2.48e+02  4.00e+01  3.18e+00  8.27e+02    1.07e+01      0              \n"
     ]
    },
    {
     "name": "stdout",
     "output_type": "stream",
     "text": [
      "  64  1.49e+02  4.09e+01  3.21e+00  5.19e+02    1.31e+02      0   Skip BFGS  \n"
     ]
    },
    {
     "name": "stdout",
     "output_type": "stream",
     "text": [
      "  65  1.49e+02  2.63e+01  3.24e+00  5.09e+02    7.24e+00      0              \n"
     ]
    },
    {
     "name": "stdout",
     "output_type": "stream",
     "text": [
      "  66  1.89e+02  2.58e+01  3.25e+00  6.39e+02    5.57e+01      0   Skip BFGS  \n"
     ]
    },
    {
     "name": "stdout",
     "output_type": "stream",
     "text": [
      "  67  1.89e+02  3.07e+01  3.23e+00  6.39e+02    7.71e+00      0              \n"
     ]
    },
    {
     "name": "stdout",
     "output_type": "stream",
     "text": [
      "  68  2.39e+02  3.13e+01  3.24e+00  8.05e+02    7.23e+01      0   Skip BFGS  \n"
     ]
    },
    {
     "name": "stdout",
     "output_type": "stream",
     "text": [
      "  69  2.39e+02  3.94e+01  3.20e+00  8.03e+02    1.00e+01      0              \n"
     ]
    },
    {
     "name": "stdout",
     "output_type": "stream",
     "text": [
      "  70  1.45e+02  4.04e+01  3.22e+00  5.06e+02    1.25e+02      0   Skip BFGS  \n"
     ]
    },
    {
     "name": "stdout",
     "output_type": "stream",
     "text": [
      "  71  1.45e+02  2.64e+01  3.25e+00  4.97e+02    6.82e+00      0              \n"
     ]
    },
    {
     "name": "stdout",
     "output_type": "stream",
     "text": [
      "  72  1.82e+02  2.59e+01  3.26e+00  6.20e+02    5.25e+01      0   Skip BFGS  \n"
     ]
    },
    {
     "name": "stdout",
     "output_type": "stream",
     "text": [
      "  73  1.82e+02  3.05e+01  3.24e+00  6.21e+02    7.29e+00      0              \n"
     ]
    },
    {
     "name": "stdout",
     "output_type": "stream",
     "text": [
      "  74  2.30e+02  3.10e+01  3.25e+00  7.79e+02    6.83e+01      0   Skip BFGS  \n"
     ]
    },
    {
     "name": "stdout",
     "output_type": "stream",
     "text": [
      "  75  2.30e+02  3.86e+01  3.22e+00  7.78e+02    9.30e+00      0              \n"
     ]
    },
    {
     "name": "stdout",
     "output_type": "stream",
     "text": [
      "  76  1.40e+02  3.96e+01  3.23e+00  4.94e+02    1.20e+02      0   Skip BFGS  \n"
     ]
    },
    {
     "name": "stdout",
     "output_type": "stream",
     "text": [
      "  77  1.40e+02  2.64e+01  3.26e+00  4.85e+02    6.53e+00      0              \n"
     ]
    },
    {
     "name": "stdout",
     "output_type": "stream",
     "text": [
      "  78  1.77e+02  2.58e+01  3.26e+00  6.05e+02    5.07e+01      0   Skip BFGS  \n"
     ]
    },
    {
     "name": "stdout",
     "output_type": "stream",
     "text": [
      "  79  1.77e+02  3.02e+01  3.25e+00  6.07e+02    7.10e+00      0              \n"
     ]
    },
    {
     "name": "stdout",
     "output_type": "stream",
     "text": [
      "  80  2.24e+02  3.07e+01  3.25e+00  7.60e+02    6.61e+01      0   Skip BFGS  \n"
     ]
    },
    {
     "name": "stdout",
     "output_type": "stream",
     "text": [
      "  81  2.24e+02  3.79e+01  3.22e+00  7.61e+02    8.91e+00      0              \n"
     ]
    },
    {
     "name": "stdout",
     "output_type": "stream",
     "text": [
      "  82  1.38e+02  3.89e+01  3.24e+00  4.85e+02    1.17e+02      0   Skip BFGS  \n"
     ]
    },
    {
     "name": "stdout",
     "output_type": "stream",
     "text": [
      "  83  1.38e+02  2.63e+01  3.27e+00  4.77e+02    6.39e+00      0              \n"
     ]
    },
    {
     "name": "stdout",
     "output_type": "stream",
     "text": [
      "  84  1.74e+02  2.57e+01  3.26e+00  5.95e+02    4.99e+01      0   Skip BFGS  \n"
     ]
    },
    {
     "name": "stdout",
     "output_type": "stream",
     "text": [
      "  85  1.74e+02  3.00e+01  3.25e+00  5.97e+02    7.07e+00      0              \n"
     ]
    },
    {
     "name": "stdout",
     "output_type": "stream",
     "text": [
      "  86  2.21e+02  3.05e+01  3.26e+00  7.49e+02    6.53e+01      0   Skip BFGS  \n"
     ]
    },
    {
     "name": "stdout",
     "output_type": "stream",
     "text": [
      "  87  2.21e+02  3.75e+01  3.23e+00  7.50e+02    8.82e+00      0              \n",
      "  88  1.36e+02  3.85e+01  3.24e+00  4.80e+02    1.14e+02      0   Skip BFGS  \n"
     ]
    },
    {
     "name": "stdout",
     "output_type": "stream",
     "text": [
      "Reach maximum number of IRLS cycles: 40\n",
      "------------------------- STOP! -------------------------\n",
      "1 : |fc-fOld| = 0.0000e+00 <= tolF*(1+|f0|) = 4.5289e+02\n",
      "1 : |xc-x_last| = 7.3624e-02 <= tolX*(1+|x0|) = 1.4816e+00\n",
      "0 : |proj(x-g)-x|    = 1.1433e+02 <= tolG          = 1.0000e-01\n",
      "0 : |proj(x-g)-x|    = 1.1433e+02 <= 1e3*eps       = 1.0000e-02\n",
      "0 : maxIter   =     100    <= iter          =     89\n",
      "------------------------- DONE! -------------------------\n"
     ]
    }
   ],
   "source": [
    "# Here we combine the inverse problem and the set of directives\n",
    "inv_irls = inversion.BaseInversion(inv_prob_irls, directives_list_irls)\n",
    "\n",
    "# Run the inversion\n",
    "recovered_model_irls = inv_irls.run(starting_conductivity_model)"
   ]
  },
  {
   "cell_type": "markdown",
   "metadata": {},
   "source": [
    "### Data Misfit and Recovered Model"
   ]
  },
  {
   "cell_type": "code",
   "execution_count": 32,
   "metadata": {
    "execution": {
     "iopub.execute_input": "2025-05-23T17:59:20.806420Z",
     "iopub.status.busy": "2025-05-23T17:59:20.806183Z",
     "iopub.status.idle": "2025-05-23T17:59:21.311103Z",
     "shell.execute_reply": "2025-05-23T17:59:21.310453Z"
    }
   },
   "outputs": [
    {
     "data": {
      "image/png": "[encoded data removed]",
      "text/plain": [
       "<Figure size 500x500 with 1 Axes>"
      ]
     },
     "metadata": {},
     "output_type": "display_data"
    }
   ],
   "source": [
    "dpred_irls = simulation_irls.dpred(recovered_model_irls)\n",
    "\n",
    "fig = plt.figure(figsize=(5, 5))\n",
    "ax1 = fig.add_axes([0.15, 0.15, 0.8, 0.75])\n",
    "ax1.loglog(times, np.abs(dobs), \"k-o\")\n",
    "ax1.loglog(times, np.abs(dpred_L2), \"b-o\")\n",
    "ax1.loglog(times, np.abs(dpred_irls), \"r-o\")\n",
    "ax1.grid(which=\"both\")\n",
    "ax1.set_xlabel(\"times (s)\")\n",
    "ax1.set_ylabel(\"Bz (T)\")\n",
    "ax1.set_title(\"Predicted and Observed Data\")\n",
    "ax1.legend([\"Observed\", \"L2 Inversion\", \"IRLS Inversion\"], loc=\"upper right\")\n",
    "plt.show()"
   ]
  },
  {
   "cell_type": "code",
   "execution_count": 33,
   "metadata": {
    "execution": {
     "iopub.execute_input": "2025-05-23T17:59:21.314525Z",
     "iopub.status.busy": "2025-05-23T17:59:21.314277Z",
     "iopub.status.idle": "2025-05-23T17:59:21.531170Z",
     "shell.execute_reply": "2025-05-23T17:59:21.530462Z"
    }
   },
   "outputs": [
    {
     "data": {
      "image/png": "[encoded data removed]",
      "text/plain": [
       "<Figure size 600x600 with 1 Axes>"
      ]
     },
     "metadata": {},
     "output_type": "display_data"
    }
   ],
   "source": [
    "# Plot true model and recovered model\n",
    "fig = plt.figure(figsize=(6, 6))\n",
    "\n",
    "ax1 = fig.add_axes([0.2, 0.15, 0.7, 0.7])\n",
    "plot_1d_layer_model(true_layers, true_conductivities, ax=ax1, color=\"k\")\n",
    "plot_1d_layer_model(\n",
    "    layer_thicknesses, log_conductivity_map * recovered_model_L2, ax=ax1, color=\"b\"\n",
    ")\n",
    "plot_1d_layer_model(\n",
    "    layer_thicknesses, log_conductivity_map * recovered_model_irls, ax=ax1, color=\"r\"\n",
    ")\n",
    "ax1.grid()\n",
    "ax1.set_xlabel(r\"Resistivity ($\\Omega m$)\")\n",
    "ax1.set_xlim(0.8 * x_min, 1.5 * x_max)\n",
    "ax1.set_ylim([np.sum(true_layers), 0])\n",
    "ax1.legend([\"True Model\", \"L2 Model\", \"IRLS Model\"])\n",
    "plt.show()"
   ]
  },
  {
   "cell_type": "markdown",
   "metadata": {},
   "source": [
    "## Parametric Inversion\n",
    "\n",
    "Here, we assume the subsurface is defined by a 3-layered Earth. However, the electrical properties and thicknesses of the layers are unknown. Here, we define our model to include log-conductivities and log-thicknesses. When including quantities that span different scales, it is frequently best to define the model in terms of log values so that each quantity influences the predicted data evenly."
   ]
  },
  {
   "cell_type": "markdown",
   "metadata": {},
   "source": [
    "### Model and Mapping\n",
    "\n",
    "For a 3-layered Earth model, the model consists of 2 log-thicknesses and 3 log-conductivities. Similar to the [1D Forward Simulation of Time Domain EM Data for a Single Sounding](fwd_tdem_1d.ipynb) tutorial, need a mapping that extract log-thicknesses and log-resistivities from the model, and mappings that convert log-values to property values. For this, we require the [simpeg.maps.Wires](xref:simpeg#simpeg.maps.Wires) mapping and [simpeg.maps.ExpMap](xref:simpeg#simpeg.maps.ExpMap) mapping classes. Note that successive mappings can be chained together using the $*$ operator."
   ]
  },
  {
   "cell_type": "code",
   "execution_count": 34,
   "metadata": {
    "execution": {
     "iopub.execute_input": "2025-05-23T17:59:21.535020Z",
     "iopub.status.busy": "2025-05-23T17:59:21.534410Z",
     "iopub.status.idle": "2025-05-23T17:59:21.539476Z",
     "shell.execute_reply": "2025-05-23T17:59:21.538909Z"
    }
   },
   "outputs": [],
   "source": [
    "# Wire maps to extract log-thicknesses and log-conductivities\n",
    "wire_map = maps.Wires((\"log_thicknesses\", 2), (\"log_resistivity\", 3))\n",
    "\n",
    "# Maping for layer thicknesses\n",
    "log_thicknesses_map = maps.ExpMap() * wire_map.log_thicknesses\n",
    "\n",
    "# Mapping for conductivities\n",
    "log_resistivity_map = maps.ExpMap() * wire_map.log_resistivity"
   ]
  },
  {
   "cell_type": "markdown",
   "metadata": {},
   "source": [
    "### Starting and Reference Model\n",
    "\n",
    "This problem is highly non-linear so it is important to have a reasonable estimate of the true model. "
   ]
  },
  {
   "cell_type": "code",
   "execution_count": 35,
   "metadata": {
    "execution": {
     "iopub.execute_input": "2025-05-23T17:59:21.542722Z",
     "iopub.status.busy": "2025-05-23T17:59:21.542424Z",
     "iopub.status.idle": "2025-05-23T17:59:21.546470Z",
     "shell.execute_reply": "2025-05-23T17:59:21.545719Z"
    }
   },
   "outputs": [],
   "source": [
    "starting_parametric_model = np.log(np.r_[30.0, 20.0, 20, 0.5, 5])\n",
    "\n",
    "reference_parametric_model = starting_parametric_model.copy()"
   ]
  },
  {
   "cell_type": "markdown",
   "metadata": {},
   "source": [
    "### Forward Simulation\n",
    "\n",
    "Because the layer thicknesses are part of the model, we define the ``thicknessesMap``. Because we are working in terms of electrical resistivity, we must define the ``rhoMap``."
   ]
  },
  {
   "cell_type": "code",
   "execution_count": 36,
   "metadata": {
    "execution": {
     "iopub.execute_input": "2025-05-23T17:59:21.549019Z",
     "iopub.status.busy": "2025-05-23T17:59:21.548679Z",
     "iopub.status.idle": "2025-05-23T17:59:21.553131Z",
     "shell.execute_reply": "2025-05-23T17:59:21.552533Z"
    }
   },
   "outputs": [],
   "source": [
    "simulation_parametric = tdem.simulation_1d.Simulation1DLayered(\n",
    "    survey=survey,\n",
    "    rhoMap=log_resistivity_map,\n",
    "    thicknessesMap=log_thicknesses_map,\n",
    ")"
   ]
  },
  {
   "cell_type": "markdown",
   "metadata": {},
   "source": [
    "### Data Misfit"
   ]
  },
  {
   "cell_type": "code",
   "execution_count": 37,
   "metadata": {
    "execution": {
     "iopub.execute_input": "2025-05-23T17:59:21.555664Z",
     "iopub.status.busy": "2025-05-23T17:59:21.555297Z",
     "iopub.status.idle": "2025-05-23T17:59:21.558857Z",
     "shell.execute_reply": "2025-05-23T17:59:21.558249Z"
    }
   },
   "outputs": [],
   "source": [
    "dmis_parametric = data_misfit.L2DataMisfit(\n",
    "    simulation=simulation_parametric, data=data_object\n",
    ")"
   ]
  },
  {
   "cell_type": "markdown",
   "metadata": {},
   "source": [
    "### (Combo) Regularization\n",
    "\n",
    "We need to define a regularization for each model parameter type. In this case, we have log-thicknesses and log-conductivities. For each model parameter type, we create a 1D [tensor mesh](xref:discretize#discretize.TensorMesh) with length equal to the number of parameters. In the ``mapping`` keyword argument, we used the wire map that extracts the specific model parameters from the model.\n",
    "\n",
    "Using the $*$ operator, separate regularizations can be summed to form a regularization that is also a [ComboObjectiveFunction](xref:simpeg#simpeg.objective_function.ComboObjectiveFunction). By setting the ``multipliers`` property, we can emphasize the relative contributions of the log-thicknesses and log-conductivities regularizations."
   ]
  },
  {
   "cell_type": "code",
   "execution_count": 38,
   "metadata": {
    "execution": {
     "iopub.execute_input": "2025-05-23T17:59:21.561801Z",
     "iopub.status.busy": "2025-05-23T17:59:21.561523Z",
     "iopub.status.idle": "2025-05-23T17:59:21.566771Z",
     "shell.execute_reply": "2025-05-23T17:59:21.566154Z"
    }
   },
   "outputs": [],
   "source": [
    "reg_1 = regularization.Smallness(\n",
    "    TensorMesh([(np.ones(2))], \"0\"),\n",
    "    mapping=wire_map.log_thicknesses,\n",
    "    reference_model=reference_parametric_model,\n",
    ")\n",
    "\n",
    "reg_2 = regularization.Smallness(\n",
    "    TensorMesh([(np.ones(3))], \"0\"),\n",
    "    mapping=wire_map.log_resistivity,\n",
    "    reference_model=reference_parametric_model,\n",
    ")\n",
    "\n",
    "reg_parametric = reg_1 + reg_2\n",
    "reg_parametric.multipliers = [1.0, 0.1]"
   ]
  },
  {
   "cell_type": "markdown",
   "metadata": {},
   "source": [
    "### Optimization"
   ]
  },
  {
   "cell_type": "code",
   "execution_count": 39,
   "metadata": {
    "execution": {
     "iopub.execute_input": "2025-05-23T17:59:21.569806Z",
     "iopub.status.busy": "2025-05-23T17:59:21.569540Z",
     "iopub.status.idle": "2025-05-23T17:59:21.573695Z",
     "shell.execute_reply": "2025-05-23T17:59:21.572961Z"
    }
   },
   "outputs": [],
   "source": [
    "opt_parametric = optimization.InexactGaussNewton(\n",
    "    maxIter=100, maxIterLS=20, maxIterCG=20, tolCG=1e-3\n",
    ")"
   ]
  },
  {
   "cell_type": "markdown",
   "metadata": {},
   "source": [
    "### Inverse Problem"
   ]
  },
  {
   "cell_type": "code",
   "execution_count": 40,
   "metadata": {
    "execution": {
     "iopub.execute_input": "2025-05-23T17:59:21.576725Z",
     "iopub.status.busy": "2025-05-23T17:59:21.576443Z",
     "iopub.status.idle": "2025-05-23T17:59:21.580413Z",
     "shell.execute_reply": "2025-05-23T17:59:21.579704Z"
    }
   },
   "outputs": [],
   "source": [
    "inv_prob_parametric = inverse_problem.BaseInvProblem(\n",
    "    dmis_parametric, reg_parametric, opt_parametric\n",
    ")"
   ]
  },
  {
   "cell_type": "markdown",
   "metadata": {},
   "source": [
    "### Directives"
   ]
  },
  {
   "cell_type": "code",
   "execution_count": 41,
   "metadata": {
    "execution": {
     "iopub.execute_input": "2025-05-23T17:59:21.583203Z",
     "iopub.status.busy": "2025-05-23T17:59:21.582826Z",
     "iopub.status.idle": "2025-05-23T17:59:21.587597Z",
     "shell.execute_reply": "2025-05-23T17:59:21.586971Z"
    }
   },
   "outputs": [],
   "source": [
    "update_jacobi = directives.UpdatePreconditioner(update_every_iteration=True)\n",
    "starting_beta = directives.BetaEstimate_ByEig(beta0_ratio=10)\n",
    "beta_schedule = directives.BetaSchedule(coolingFactor=2.0, coolingRate=3)\n",
    "target_misfit = directives.TargetMisfit(chifact=1.0)\n",
    "\n",
    "directives_list_parametric = [\n",
    "    update_jacobi,\n",
    "    starting_beta,\n",
    "    beta_schedule,\n",
    "    target_misfit,\n",
    "]"
   ]
  },
  {
   "cell_type": "markdown",
   "metadata": {},
   "source": [
    "### Define and Run Inversion"
   ]
  },
  {
   "cell_type": "code",
   "execution_count": 42,
   "metadata": {
    "execution": {
     "iopub.execute_input": "2025-05-23T17:59:21.590448Z",
     "iopub.status.busy": "2025-05-23T17:59:21.590113Z",
     "iopub.status.idle": "2025-05-23T17:59:27.254037Z",
     "shell.execute_reply": "2025-05-23T17:59:27.253202Z"
    }
   },
   "outputs": [
    {
     "name": "stdout",
     "output_type": "stream",
     "text": [
      "\n",
      "Running inversion with SimPEG v0.24.0\n",
      "\n",
      "                    simpeg.InvProblem is setting bfgsH0 to the inverse of the eval2Deriv.\n",
      "                    ***Done using the default solver Pardiso and no solver_opts.***\n",
      "                    \n",
      "model has any nan: 0\n",
      "============================ Inexact Gauss Newton ============================\n",
      "  #     beta     phi_d     phi_m       f      |proj(x-g)-x|  LS    Comment   \n",
      "-----------------------------------------------------------------------------\n",
      "x0 has any nan: 0\n",
      "   0  7.97e+05  6.56e+03  0.00e+00  6.56e+03    3.99e+04      0              \n"
     ]
    },
    {
     "name": "stdout",
     "output_type": "stream",
     "text": [
      "   1  7.97e+05  4.38e+03  1.20e-03  5.34e+03    2.84e+03      0              \n",
      "   2  7.97e+05  4.50e+03  1.05e-03  5.34e+03    2.16e+02      0              \n"
     ]
    },
    {
     "name": "stdout",
     "output_type": "stream",
     "text": [
      "   3  3.99e+05  4.49e+03  1.06e-03  4.92e+03    1.39e+04      0              \n",
      "   4  3.99e+05  3.55e+03  2.83e-03  4.68e+03    1.38e+03      0              \n"
     ]
    },
    {
     "name": "stdout",
     "output_type": "stream",
     "text": [
      "   5  3.99e+05  3.63e+03  2.62e-03  4.67e+03    1.45e+02      0              \n",
      "   6  1.99e+05  3.62e+03  2.65e-03  4.15e+03    1.11e+04      0              \n"
     ]
    },
    {
     "name": "stdout",
     "output_type": "stream",
     "text": [
      "   7  1.99e+05  2.72e+03  5.98e-03  3.91e+03    1.18e+03      0              \n",
      "   8  1.99e+05  2.80e+03  5.59e-03  3.91e+03    1.39e+02      0              \n"
     ]
    },
    {
     "name": "stdout",
     "output_type": "stream",
     "text": [
      "   9  9.96e+04  2.79e+03  5.64e-03  3.35e+03    8.31e+03      0              \n",
      "  10  9.96e+04  2.07e+03  1.09e-02  3.16e+03    7.93e+02      0              \n"
     ]
    },
    {
     "name": "stdout",
     "output_type": "stream",
     "text": [
      "  11  9.96e+04  2.12e+03  1.04e-02  3.15e+03    9.25e+01      0              \n",
      "  12  4.98e+04  2.11e+03  1.05e-02  2.63e+03    5.83e+03      0              \n"
     ]
    },
    {
     "name": "stdout",
     "output_type": "stream",
     "text": [
      "  13  4.98e+04  1.57e+03  1.83e-02  2.48e+03    4.25e+02      0              \n",
      "  14  4.98e+04  1.57e+03  1.81e-02  2.48e+03    5.65e+01      0              \n"
     ]
    },
    {
     "name": "stdout",
     "output_type": "stream",
     "text": [
      "  15  2.49e+04  1.57e+03  1.83e-02  2.02e+03    3.98e+03      0   Skip BFGS  \n",
      "  16  2.49e+04  1.09e+03  3.16e-02  1.88e+03    2.79e+02      0              \n"
     ]
    },
    {
     "name": "stdout",
     "output_type": "stream",
     "text": [
      "  17  2.49e+04  1.04e+03  3.34e-02  1.87e+03    8.69e+01      0   Skip BFGS  \n",
      "  18  1.25e+04  1.02e+03  3.41e-02  1.45e+03    2.81e+03      0   Skip BFGS  \n"
     ]
    },
    {
     "name": "stdout",
     "output_type": "stream",
     "text": [
      "  19  1.25e+04  5.68e+02  5.87e-02  1.30e+03    2.41e+02      0              \n",
      "  20  1.25e+04  5.24e+02  6.19e-02  1.30e+03    5.30e+01      0   Skip BFGS  \n"
     ]
    },
    {
     "name": "stdout",
     "output_type": "stream",
     "text": [
      "  21  6.23e+03  5.16e+02  6.26e-02  9.06e+02    2.01e+03      0   Skip BFGS  \n",
      "  22  6.23e+03  2.45e+02  9.25e-02  8.21e+02    7.39e+01      0              \n"
     ]
    },
    {
     "name": "stdout",
     "output_type": "stream",
     "text": [
      "  23  6.23e+03  2.42e+02  9.29e-02  8.20e+02    1.68e+01      0   Skip BFGS  \n",
      "  24  3.11e+03  2.40e+02  9.31e-02  5.30e+02    1.33e+03      0   Skip BFGS  \n"
     ]
    },
    {
     "name": "stdout",
     "output_type": "stream",
     "text": [
      "  25  3.11e+03  1.12e+02  1.22e-01  4.91e+02    6.21e+01      0              \n",
      "  26  3.11e+03  1.13e+02  1.21e-01  4.90e+02    1.05e+01      0              \n"
     ]
    },
    {
     "name": "stdout",
     "output_type": "stream",
     "text": [
      "  27  1.56e+03  1.12e+02  1.21e-01  3.01e+02    8.14e+02      0   Skip BFGS  \n",
      "  28  1.56e+03  5.68e+01  1.46e-01  2.84e+02    3.85e+01      0              \n"
     ]
    },
    {
     "name": "stdout",
     "output_type": "stream",
     "text": [
      "  29  1.56e+03  5.68e+01  1.46e-01  2.84e+02    5.11e+00      0              \n",
      "  30  7.78e+02  5.65e+01  1.46e-01  1.70e+02    4.70e+02      0   Skip BFGS  \n"
     ]
    },
    {
     "name": "stdout",
     "output_type": "stream",
     "text": [
      "  31  7.78e+02  3.54e+01  1.64e-01  1.63e+02    1.65e+01      0              \n",
      "  32  7.78e+02  3.51e+01  1.65e-01  1.63e+02    2.21e+00      0   Skip BFGS  \n"
     ]
    },
    {
     "name": "stdout",
     "output_type": "stream",
     "text": [
      "  33  3.89e+02  3.50e+01  1.65e-01  9.91e+01    2.58e+02      0   Skip BFGS  \n",
      "------------------------- STOP! -------------------------\n",
      "1 : |fc-fOld| = 0.0000e+00 <= tolF*(1+|f0|) = 6.5612e+02\n",
      "1 : |xc-x_last| = 4.2279e-02 <= tolX*(1+|x0|) = 6.7086e-01\n",
      "0 : |proj(x-g)-x|    = 2.5833e+02 <= tolG          = 1.0000e-01\n",
      "0 : |proj(x-g)-x|    = 2.5833e+02 <= 1e3*eps       = 1.0000e-02\n",
      "0 : maxIter   =     100    <= iter          =     34\n",
      "------------------------- DONE! -------------------------\n"
     ]
    }
   ],
   "source": [
    "inv_parametric = inversion.BaseInversion(\n",
    "    inv_prob_parametric, directives_list_parametric\n",
    ")\n",
    "recovered_model_parametric = inv_parametric.run(starting_parametric_model)"
   ]
  },
  {
   "cell_type": "markdown",
   "metadata": {},
   "source": [
    "### Data Misfit and Recovered Model"
   ]
  },
  {
   "cell_type": "code",
   "execution_count": 43,
   "metadata": {
    "execution": {
     "iopub.execute_input": "2025-05-23T17:59:27.257893Z",
     "iopub.status.busy": "2025-05-23T17:59:27.257656Z",
     "iopub.status.idle": "2025-05-23T17:59:27.715258Z",
     "shell.execute_reply": "2025-05-23T17:59:27.714703Z"
    }
   },
   "outputs": [
    {
     "data": {
      "image/png": "[encoded data removed]",
      "text/plain": [
       "<Figure size 500x500 with 1 Axes>"
      ]
     },
     "metadata": {},
     "output_type": "display_data"
    }
   ],
   "source": [
    "dpred_parametric = simulation_parametric.dpred(recovered_model_parametric)\n",
    "\n",
    "fig = plt.figure(figsize=(5, 5))\n",
    "ax1 = fig.add_axes([0.15, 0.15, 0.8, 0.75])\n",
    "ax1.loglog(times, np.abs(dobs), \"k-o\")\n",
    "ax1.loglog(times, np.abs(dpred_L2), \"b-o\")\n",
    "ax1.loglog(times, np.abs(dpred_irls), \"r-o\")\n",
    "ax1.loglog(times, np.abs(dpred_parametric), \"g-o\")\n",
    "ax1.grid(which=\"both\")\n",
    "ax1.set_xlabel(\"times (s)\")\n",
    "ax1.set_ylabel(\"Bz (T)\")\n",
    "ax1.set_title(\"Predicted and Observed Data\")\n",
    "ax1.legend(\n",
    "    [\"Observed\", \"L2 Inversion\", \"IRLS Inversion\", \"Parametric Inversion\"],\n",
    "    loc=\"upper right\",\n",
    ")\n",
    "plt.show()"
   ]
  },
  {
   "cell_type": "code",
   "execution_count": 44,
   "metadata": {
    "execution": {
     "iopub.execute_input": "2025-05-23T17:59:27.719504Z",
     "iopub.status.busy": "2025-05-23T17:59:27.719272Z",
     "iopub.status.idle": "2025-05-23T17:59:27.924877Z",
     "shell.execute_reply": "2025-05-23T17:59:27.924158Z"
    }
   },
   "outputs": [
    {
     "data": {
      "image/png": "[encoded data removed]",
      "text/plain": [
       "<Figure size 600x600 with 1 Axes>"
      ]
     },
     "metadata": {},
     "output_type": "display_data"
    }
   ],
   "source": [
    "fig = plt.figure(figsize=(6, 6))\n",
    "\n",
    "ax1 = fig.add_axes([0.2, 0.15, 0.7, 0.7])\n",
    "plot_1d_layer_model(true_layers, true_conductivities, ax=ax1, color=\"k\")\n",
    "plot_1d_layer_model(\n",
    "    layer_thicknesses, log_conductivity_map * recovered_model_L2, ax=ax1, color=\"b\"\n",
    ")\n",
    "plot_1d_layer_model(\n",
    "    layer_thicknesses, log_conductivity_map * recovered_model_irls, ax=ax1, color=\"r\"\n",
    ")\n",
    "plot_1d_layer_model(\n",
    "    log_thicknesses_map * recovered_model_parametric,\n",
    "    1 / (log_resistivity_map * recovered_model_parametric),\n",
    "    ax=ax1,\n",
    "    color=\"g\",\n",
    ")\n",
    "ax1.grid()\n",
    "ax1.set_xlabel(r\"Resistivity ($\\Omega m$)\")\n",
    "ax1.set_xlim(0.8 * x_min, 2 * x_max)\n",
    "ax1.set_ylim([np.sum(true_layers), 0])\n",
    "ax1.legend([\"True Model\", \"L2 Model\", \"IRLS Model\", \"Parametric Model\"])\n",
    "plt.show()"
   ]
  },
  {
   "cell_type": "code",
   "execution_count": null,
   "metadata": {},
   "outputs": [],
   "source": []
  }
 ],
 "metadata": {
  "kernelspec": {
   "display_name": "Python 3 (ipykernel)",
   "language": "python",
   "name": "python3"
  },
  "language_info": {
   "codemirror_mode": {
    "name": "ipython",
    "version": 3
   },
   "file_extension": ".py",
   "mimetype": "text/x-python",
   "name": "python",
   "nbconvert_exporter": "python",
   "pygments_lexer": "ipython3",
   "version": "3.12.10"
  }
 },
 "nbformat": 4,
 "nbformat_minor": 1
}
