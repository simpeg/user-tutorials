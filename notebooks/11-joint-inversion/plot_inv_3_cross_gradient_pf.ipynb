{
 "cells": [
  {
   "cell_type": "code",
   "execution_count": null,
   "metadata": {
    "collapsed": false,
    "jupyter": {
     "outputs_hidden": false
    }
   },
   "outputs": [],
   "source": [
    "%matplotlib inline"
   ]
  },
  {
   "cell_type": "markdown",
   "metadata": {},
   "source": [
    "\n",
    "# Cross-gradient Joint Inversion of Gravity and Magnetic Anomaly Data\n",
    "\n",
    "Here we simultaneously invert gravity and magentic data using cross-gradient\n",
    "constraint. The recovered density and susceptibility models are supposed to have\n",
    "structural similarity. For this tutorial, we focus on the following:\n",
    "\n",
    "    - Defining the survey from xyz formatted data\n",
    "    - Generating a mesh based on survey geometry\n",
    "    - Including surface topography\n",
    "    - Defining the inverse problem via combmaps (2 data misfit terms,\n",
    "        2 regularization terms, a coupling term and optimization)\n",
    "    - Specifying directives for the inversion\n",
    "    - Plotting the recovered model and data misfit\n",
    "\n",
    "\n",
    "Although we consider gravity and magnetic anomaly data in this tutorial,\n",
    "the same approach can be used to invert gradiometry and other types of geophysical data.\n"
   ]
  },
  {
   "cell_type": "markdown",
   "metadata": {},
   "source": [
    "## Import modules\n",
    "\n",
    "\n"
   ]
  },
  {
   "cell_type": "code",
   "execution_count": null,
   "metadata": {
    "collapsed": false,
    "jupyter": {
     "outputs_hidden": false
    }
   },
   "outputs": [],
   "source": [
    "import os\n",
    "import numpy as np\n",
    "import matplotlib as mpl\n",
    "import matplotlib.pyplot as plt\n",
    "import tarfile\n",
    "\n",
    "from discretize import TensorMesh\n",
    "from discretize.utils import active_from_xyz\n",
    "from SimPEG.utils import plot2Ddata\n",
    "from SimPEG.potential_fields import gravity, magnetics\n",
    "from SimPEG import (\n",
    "    maps,\n",
    "    data,\n",
    "    data_misfit,\n",
    "    inverse_problem,\n",
    "    regularization,\n",
    "    optimization,\n",
    "    directives,\n",
    "    inversion,\n",
    "    utils,\n",
    ")\n",
    "\n",
    "np.random.seed(0)"
   ]
  },
  {
   "cell_type": "markdown",
   "metadata": {},
   "source": [
    "## Define File Names\n",
    "\n",
    "File paths for assets we are loading. To set up the inversion, we require\n",
    "topography and field observations. The true model defined on the whole mesh\n",
    "is loaded to compare with the inversion result. These files are stored as a\n",
    "tar-file on our google cloud bucket:\n",
    "\"https://storage.googleapis.com/simpeg/doc-assets/gravity.tar.gz\"\n",
    "\n"
   ]
  },
  {
   "cell_type": "code",
   "execution_count": null,
   "metadata": {
    "collapsed": false,
    "jupyter": {
     "outputs_hidden": false
    }
   },
   "outputs": [],
   "source": [
    "# # storage bucket where we have the data\n",
    "data_source = (\n",
    "    \"https://storage.googleapis.com/simpeg/doc-assets/cross_gradient_data.tar.gz\"\n",
    ")\n",
    "\n",
    "# # download the data\n",
    "downloaded_data = utils.download(data_source, overwrite=True)\n",
    "\n",
    "# unzip the tarfile\n",
    "tar = tarfile.open(downloaded_data, \"r\")\n",
    "tar.extractall()\n",
    "tar.close()\n",
    "\n",
    "# path to the directory containing our data\n",
    "dir_path = downloaded_data.split(\".\")[0] + os.path.sep\n",
    "\n",
    "# files to work with\n",
    "topo_filename = dir_path + \"topo.txt\"\n",
    "model_filename = dir_path + \"true_model.txt\""
   ]
  },
  {
   "cell_type": "markdown",
   "metadata": {},
   "source": [
    "## Load Data and Plot\n",
    "\n",
    "Here we load and plot synthetic gravity anomaly data. Topography is generally\n",
    "defined as an (N, 3) array. Gravity data is generally defined with 4 columns:\n",
    "x, y, z and data.\n",
    "\n",
    "\n"
   ]
  },
  {
   "cell_type": "code",
   "execution_count": null,
   "metadata": {
    "collapsed": false,
    "jupyter": {
     "outputs_hidden": false
    }
   },
   "outputs": [],
   "source": [
    "# Load topography\n",
    "xyz_topo = np.loadtxt(topo_filename)\n",
    "\n",
    "# Load field data\n",
    "dobs_grav = np.loadtxt(dir_path + \"gravity_data.obs\")\n",
    "dobs_mag = np.loadtxt(dir_path + \"magnetic_data.obs\")\n",
    "\n",
    "# Define receiver locations and observed data\n",
    "receiver_locations = dobs_grav[:, 0:3]\n",
    "\n",
    "dobs_grav = dobs_grav[:, -1]\n",
    "dobs_mag = dobs_mag[:, -1]\n",
    "\n",
    "# Plot\n",
    "mpl.rcParams.update({\"font.size\": 12})\n",
    "\n",
    "# gravity data\n",
    "fig = plt.figure(figsize=(7, 5))\n",
    "\n",
    "ax1 = fig.add_axes([0.1, 0.1, 0.73, 0.85])\n",
    "plot2Ddata(receiver_locations, dobs_grav, ax=ax1, contourOpts={\"cmap\": \"bwr\"})\n",
    "ax1.set_title(\"Gravity Anomaly\")\n",
    "ax1.set_xlabel(\"x (m)\")\n",
    "ax1.set_ylabel(\"y (m)\")\n",
    "\n",
    "ax2 = fig.add_axes([0.8, 0.1, 0.03, 0.85])\n",
    "norm = mpl.colors.Normalize(\n",
    "    vmin=-np.max(np.abs(dobs_grav)), vmax=np.max(np.abs(dobs_grav))\n",
    ")\n",
    "cbar = mpl.colorbar.ColorbarBase(\n",
    "    ax2, norm=norm, orientation=\"vertical\", cmap=mpl.cm.bwr, format=\"%.1e\"\n",
    ")\n",
    "cbar.set_label(\"$mgal$\", rotation=270, labelpad=15, size=12)\n",
    "\n",
    "# magnetic data\n",
    "fig = plt.figure(figsize=(7, 5))\n",
    "ax1 = fig.add_axes([0.1, 0.1, 0.73, 0.85])\n",
    "plot2Ddata(receiver_locations, dobs_mag, ax=ax1, contourOpts={\"cmap\": \"bwr\"})\n",
    "ax1.set_title(\"Magnetic Anomaly\")\n",
    "ax1.set_xlabel(\"x (m)\")\n",
    "ax1.set_ylabel(\"y (m)\")\n",
    "\n",
    "ax2 = fig.add_axes([0.8, 0.1, 0.03, 0.85])\n",
    "norm = mpl.colors.Normalize(\n",
    "    vmin=-np.max(np.abs(dobs_mag)), vmax=np.max(np.abs(dobs_mag))\n",
    ")\n",
    "cbar = mpl.colorbar.ColorbarBase(\n",
    "    ax2, norm=norm, orientation=\"vertical\", cmap=mpl.cm.bwr, format=\"%.1e\"\n",
    ")\n",
    "cbar.set_label(\"$nT$\", rotation=270, labelpad=15, size=12)\n",
    "\n",
    "plt.show()"
   ]
  },
  {
   "cell_type": "markdown",
   "metadata": {},
   "source": [
    "## Assign Uncertainties\n",
    "\n",
    "Inversion with SimPEG requires that we define standard deviation on our data.\n",
    "This represents our estimate of the noise in our data. For gravity inversion,\n",
    "a constant floor value is generally applied to all data. For this tutorial,\n",
    "the standard deviation on each datum will be 1% of the maximum observed\n",
    "gravity anomaly value. For magnetic inversion, the same strategy is performed.\n",
    "\n",
    "\n"
   ]
  },
  {
   "cell_type": "code",
   "execution_count": null,
   "metadata": {
    "collapsed": false,
    "jupyter": {
     "outputs_hidden": false
    }
   },
   "outputs": [],
   "source": [
    "maximum_anomaly_grav = np.max(np.abs(dobs_grav))\n",
    "uncertainties_grav = 0.01 * maximum_anomaly_grav * np.ones(np.shape(dobs_grav))\n",
    "\n",
    "maximum_anomaly_mag = np.max(np.abs(dobs_mag))\n",
    "uncertainties_mag = 0.01 * maximum_anomaly_mag * np.ones(np.shape(dobs_mag))"
   ]
  },
  {
   "cell_type": "markdown",
   "metadata": {},
   "source": [
    "## Defining the Survey\n",
    "\n",
    "Here, we define survey that will be used for this tutorial. Gravity\n",
    "surveys are simple to create. The user only needs an (N, 3) array to define\n",
    "the xyz locations of the observation locations. From this, the user can\n",
    "define the receivers and the source field.\n",
    "\n",
    "\n"
   ]
  },
  {
   "cell_type": "code",
   "execution_count": null,
   "metadata": {
    "collapsed": false,
    "jupyter": {
     "outputs_hidden": false
    }
   },
   "outputs": [],
   "source": [
    "# Define the receivers. The data consist of vertical gravity anomaly measurements.\n",
    "# The set of receivers must be defined as a list.\n",
    "receiver_grav = gravity.receivers.Point(receiver_locations, components=\"gz\")\n",
    "\n",
    "# Define the source field and survey for gravity data\n",
    "source_field_grav = gravity.sources.SourceField(receiver_list=[receiver_grav])\n",
    "survey_grav = gravity.survey.Survey(source_field_grav)\n",
    "\n",
    "\n",
    "# Define the component(s) of the field we want to simulate as a list of strings.\n",
    "# Here we simulation total magnetic intensity data.\n",
    "components = [\"tmi\"]\n",
    "\n",
    "# Use the observation locations and components to define the receivers. To\n",
    "# simulate data, the receivers must be defined as a list.\n",
    "receiver_mag = magnetics.receivers.Point(receiver_locations, components=components)\n",
    "\n",
    "# Define the inducing field H0 = (intensity [nT], inclination [deg], declination [deg])\n",
    "inclination = 90\n",
    "declination = 0\n",
    "strength = 50000\n",
    "\n",
    "# Define the source field and survey for gravity data\n",
    "source_field_mag = magnetics.sources.UniformBackgroundField(\n",
    "    receiver_list=[receiver_mag],\n",
    "    amplitude=strength,\n",
    "    declination=declination,\n",
    "    inclination=inclination,\n",
    ")\n",
    "survey_mag = magnetics.survey.Survey(source_field_mag)"
   ]
  },
  {
   "cell_type": "markdown",
   "metadata": {},
   "source": [
    "## Defining the Data\n",
    "\n",
    "Here is where we define the data that are inverted. The data are defined by\n",
    "the survey, the observation values and the standard deviation.\n",
    "\n",
    "\n"
   ]
  },
  {
   "cell_type": "code",
   "execution_count": null,
   "metadata": {
    "collapsed": false,
    "jupyter": {
     "outputs_hidden": false
    }
   },
   "outputs": [],
   "source": [
    "data_object_grav = data.Data(\n",
    "    survey_grav, dobs=dobs_grav, standard_deviation=uncertainties_grav\n",
    ")\n",
    "data_object_mag = data.Data(\n",
    "    survey_mag, dobs=dobs_mag, standard_deviation=uncertainties_mag\n",
    ")"
   ]
  },
  {
   "cell_type": "markdown",
   "metadata": {},
   "source": [
    "## Defining a Tensor Mesh\n",
    "\n",
    "Here, we create the tensor mesh that will be used to invert gravity anomaly\n",
    "data. If desired, we could define an OcTree mesh.\n",
    "\n",
    "\n"
   ]
  },
  {
   "cell_type": "code",
   "execution_count": null,
   "metadata": {
    "collapsed": false,
    "jupyter": {
     "outputs_hidden": false
    }
   },
   "outputs": [],
   "source": [
    "dh = 5.0\n",
    "hx = [(dh, 5, -1.3), (dh, 40), (dh, 5, 1.3)]\n",
    "hy = [(dh, 5, -1.3), (dh, 40), (dh, 5, 1.3)]\n",
    "hz = [(dh, 5, -1.3), (dh, 15)]\n",
    "mesh = TensorMesh([hx, hy, hz], \"CCN\")"
   ]
  },
  {
   "cell_type": "markdown",
   "metadata": {},
   "source": [
    "## Starting/Reference Model and Mapping on Tensor Mesh\n",
    "\n",
    "Here, we create starting and/or reference models for the inversion as\n",
    "well as the mapping from the model space to the active cells. Starting and\n",
    "reference models can be a constant background value or contain a-priori\n",
    "structures. Here, the backgrounds are 1e-6 g/cc and 1e-6 SI for density and\n",
    "susceptibility models, respectively. Note that the background values could\n",
    "be different for density and susceptibility models.\n",
    "\n",
    "\n"
   ]
  },
  {
   "cell_type": "code",
   "execution_count": null,
   "metadata": {
    "collapsed": false,
    "jupyter": {
     "outputs_hidden": false
    }
   },
   "outputs": [],
   "source": [
    "# Define density contrast values for each unit in g/cc.\n",
    "background_dens, background_susc = 1e-6, 1e-6\n",
    "\n",
    "# Find the indicies of the active cells in forward model (ones below surface)\n",
    "ind_active = active_from_xyz(mesh, xyz_topo)\n",
    "\n",
    "# Define mapping from model to active cells\n",
    "nC = int(ind_active.sum())\n",
    "model_map = maps.IdentityMap(nP=nC)  # model consists of a value for each active cell\n",
    "\n",
    "# Create Wires Map that maps from stacked models to individual model components\n",
    "# m1 refers to density model, m2 refers to susceptibility\n",
    "wires = maps.Wires((\"density\", nC), (\"susceptibility\", nC))\n",
    "\n",
    "# Define and plot starting model\n",
    "starting_model = np.r_[background_dens * np.ones(nC), background_susc * np.ones(nC)]"
   ]
  },
  {
   "cell_type": "markdown",
   "metadata": {},
   "source": [
    "## Define the Physics\n",
    "\n",
    "Here, we define the physics of the gravity and magnetic problems by using the simulation\n",
    "class.\n",
    "\n",
    "\n"
   ]
  },
  {
   "cell_type": "code",
   "execution_count": null,
   "metadata": {
    "collapsed": false,
    "jupyter": {
     "outputs_hidden": false
    }
   },
   "outputs": [],
   "source": [
    "simulation_grav = gravity.simulation.Simulation3DIntegral(\n",
    "    survey=survey_grav, mesh=mesh, rhoMap=wires.density, ind_active=ind_active\n",
    ")\n",
    "\n",
    "simulation_mag = magnetics.simulation.Simulation3DIntegral(\n",
    "    survey=survey_mag,\n",
    "    mesh=mesh,\n",
    "    model_type=\"scalar\",\n",
    "    chiMap=wires.susceptibility,\n",
    "    ind_active=ind_active,\n",
    ")"
   ]
  },
  {
   "cell_type": "markdown",
   "metadata": {},
   "source": [
    "## Define the Inverse Problem\n",
    "\n",
    "The inverse problem is defined by 4 things:\n",
    "\n",
    "    1) Data Misfit: a measure of how well our recovered model explains the field data\n",
    "    2) Regularization: constraints placed on the recovered model and a priori information\n",
    "    3) Coupling: a connection of two different physical property models\n",
    "    4) Optimization: the numerical approach used to solve the inverse problem\n",
    "\n",
    "\n"
   ]
  },
  {
   "cell_type": "code",
   "execution_count": null,
   "metadata": {
    "collapsed": false,
    "jupyter": {
     "outputs_hidden": false
    }
   },
   "outputs": [],
   "source": [
    "# Define the data misfit. Here the data misfit is the L2 norm of the weighted\n",
    "# residual between the observed data and the data predicted for a given model.\n",
    "# Within the data misfit, the residual between predicted and observed data are\n",
    "# normalized by the data's standard deviation.\n",
    "dmis_grav = data_misfit.L2DataMisfit(data=data_object_grav, simulation=simulation_grav)\n",
    "dmis_mag = data_misfit.L2DataMisfit(data=data_object_mag, simulation=simulation_mag)\n",
    "\n",
    "# Define the regularization (model objective function).\n",
    "reg_grav = regularization.WeightedLeastSquares(\n",
    "    mesh, active_cells=ind_active, mapping=wires.density\n",
    ")\n",
    "reg_mag = regularization.WeightedLeastSquares(\n",
    "    mesh, active_cells=ind_active, mapping=wires.susceptibility\n",
    ")\n",
    "\n",
    "# Define the coupling term to connect two different physical property models\n",
    "lamda = 2e12  # weight for coupling term\n",
    "cross_grad = regularization.CrossGradient(mesh, wires, active_cells=ind_active)\n",
    "\n",
    "# combo\n",
    "dmis = dmis_grav + dmis_mag\n",
    "reg = reg_grav + reg_mag + lamda * cross_grad\n",
    "\n",
    "# Define how the optimization problem is solved. Here we will use a projected\n",
    "# Gauss-Newton approach that employs the conjugate gradient solver.\n",
    "opt = optimization.ProjectedGNCG(\n",
    "    maxIter=10,\n",
    "    lower=-2.0,\n",
    "    upper=2.0,\n",
    "    maxIterLS=20,\n",
    "    maxIterCG=100,\n",
    "    tolCG=1e-3,\n",
    "    tolX=1e-3,\n",
    ")\n",
    "\n",
    "# Here we define the inverse problem that is to be solved\n",
    "inv_prob = inverse_problem.BaseInvProblem(dmis, reg, opt)"
   ]
  },
  {
   "cell_type": "markdown",
   "metadata": {},
   "source": [
    "## Define Inversion Directives\n",
    "\n",
    "Here we define any directiveas that are carried out during the inversion. This\n",
    "includes the cooling schedule for the trade-off parameter (beta), stopping\n",
    "criteria for the inversion and saving inversion results at each iteration.\n",
    "\n",
    "\n"
   ]
  },
  {
   "cell_type": "code",
   "execution_count": null,
   "metadata": {
    "collapsed": false,
    "jupyter": {
     "outputs_hidden": false
    }
   },
   "outputs": [],
   "source": [
    "# Defining a starting value for the trade-off parameter (beta) between the data\n",
    "# misfit and the regularization.\n",
    "starting_beta = directives.PairedBetaEstimate_ByEig(beta0_ratio=1e0)\n",
    "# starting_beta.n_pw_iter = 10\n",
    "\n",
    "# Defining the fractional decrease in beta and the number of Gauss-Newton solves\n",
    "# for each beta value.\n",
    "beta_schedule = directives.PairedBetaSchedule(cooling_factor=5, cooling_rate=1)\n",
    "\n",
    "# Options for outputting recovered models and predicted data for each beta.\n",
    "save_iteration = directives.SimilarityMeasureSaveOutputEveryIteration(save_txt=False)\n",
    "\n",
    "joint_inv_dir = directives.SimilarityMeasureInversionDirective()\n",
    "\n",
    "stopping = directives.MovingAndMultiTargetStopping(tol=1e-6)\n",
    "\n",
    "sensitivity_weights = directives.UpdateSensitivityWeights(everyIter=False)\n",
    "\n",
    "# Updating the preconditionner if it is model dependent.\n",
    "update_jacobi = directives.UpdatePreconditioner()\n",
    "\n",
    "\n",
    "# The directives are defined as a list.\n",
    "directives_list = [\n",
    "    joint_inv_dir,\n",
    "    sensitivity_weights,\n",
    "    stopping,\n",
    "    starting_beta,\n",
    "    beta_schedule,\n",
    "    save_iteration,\n",
    "    update_jacobi,\n",
    "]"
   ]
  },
  {
   "cell_type": "markdown",
   "metadata": {},
   "source": [
    "## Running the Inversion\n",
    "\n",
    "To define the inversion object, we need to define the inversion problem and\n",
    "the set of directives. We can then run the inversion.\n",
    "\n",
    "\n"
   ]
  },
  {
   "cell_type": "code",
   "execution_count": null,
   "metadata": {
    "collapsed": false,
    "jupyter": {
     "outputs_hidden": false
    }
   },
   "outputs": [],
   "source": [
    "# Here we combine the inverse problem and the set of directives\n",
    "inv = inversion.BaseInversion(inv_prob, directives_list)\n",
    "\n",
    "# Run inversion\n",
    "recovered_model = inv.run(starting_model)"
   ]
  },
  {
   "cell_type": "markdown",
   "metadata": {},
   "source": [
    "## Plotting True Model and Recovered Model\n",
    "\n",
    "\n"
   ]
  },
  {
   "cell_type": "code",
   "execution_count": null,
   "metadata": {
    "collapsed": false,
    "jupyter": {
     "outputs_hidden": false
    }
   },
   "outputs": [],
   "source": [
    "# Load the true model (was defined on the whole mesh) and extract only the\n",
    "# values on active cells.\n",
    "\n",
    "true_model_dens = np.loadtxt(dir_path + \"true_model_dens.txt\")\n",
    "true_model_dens[~ind_active] = np.NaN\n",
    "\n",
    "true_model_susc = np.loadtxt(dir_path + \"true_model_susc.txt\")\n",
    "true_model_susc[~ind_active] = np.NaN\n",
    "\n",
    "# Plot True Model\n",
    "fig = plt.figure(figsize=(9, 8))\n",
    "ax1 = plt.subplot(211)\n",
    "\n",
    "(im,) = mesh.plot_slice(true_model_dens, normal=\"Y\", ax=ax1, grid=True)\n",
    "ax1.set_title(\"True density model slice at y = 0 m\")\n",
    "cbar = plt.colorbar(im, format=\"%.1e\")\n",
    "cbar.set_label(\"g/cc\", rotation=270, labelpad=15, size=12)\n",
    "\n",
    "ax2 = plt.subplot(212)\n",
    "(im,) = mesh.plot_slice(\n",
    "    true_model_susc, normal=\"Y\", ax=ax2, grid=True, pcolor_opts={\"cmap\": \"inferno\"}\n",
    ")\n",
    "\n",
    "ax2.set_title(\"True susceptibility model slice at y = 0 m\")\n",
    "cbar = plt.colorbar(im, format=\"%.1e\")\n",
    "cbar.set_label(\"SI\", rotation=270, labelpad=15, size=12)\n",
    "plt.tight_layout()\n",
    "plt.show()\n",
    "\n",
    "# Plot Recovered Model\n",
    "m_dens_joint, m_susc_joint = wires * recovered_model\n",
    "plotting_map = maps.InjectActiveCells(mesh, ind_active, np.nan)\n",
    "\n",
    "fig = plt.figure(figsize=(9, 8))\n",
    "ax1 = plt.subplot(211)\n",
    "(im,) = mesh.plot_slice(\n",
    "    plotting_map * m_dens_joint,\n",
    "    normal=\"Y\",\n",
    "    ax=ax1,\n",
    "    clim=(-0.04, 0.03),\n",
    ")\n",
    "ax1.set_title(\"Density model slice at y = 0 m\")\n",
    "cbar = plt.colorbar(im)\n",
    "cbar.set_label(\"g/cc\", rotation=270, labelpad=15, size=12)\n",
    "\n",
    "ax2 = plt.subplot(212)\n",
    "(im,) = mesh.plot_slice(\n",
    "    plotting_map * m_susc_joint, normal=\"Y\", ax=ax2, pcolor_opts={\"cmap\": \"inferno\"}\n",
    ")\n",
    "ax2.set_title(\"Susceptibility model slice at y = 0 m\")\n",
    "cbar = plt.colorbar(im)\n",
    "cbar.set_label(\"SI\", rotation=270, labelpad=15, size=12)\n",
    "\n",
    "plt.tight_layout()\n",
    "plt.show()"
   ]
  },
  {
   "cell_type": "markdown",
   "metadata": {},
   "source": [
    "## Comparing jointly and separatly recovered models\n",
    "\n",
    "\n"
   ]
  },
  {
   "cell_type": "code",
   "execution_count": null,
   "metadata": {
    "collapsed": false,
    "jupyter": {
     "outputs_hidden": false
    }
   },
   "outputs": [],
   "source": [
    "# Normalized Cross Gradient of Jointly Recovered Susceptibility and Density Models\n",
    "ncg = cross_grad.calculate_cross_gradient(recovered_model, normalized=True)\n",
    "\n",
    "fig = plt.figure(figsize=(9, 4))\n",
    "ax = plt.subplot(111)\n",
    "(im,) = mesh.plot_slice(\n",
    "    plotting_map * ncg,\n",
    "    normal=\"Y\",\n",
    "    ax=ax,\n",
    "    grid=True,\n",
    ")\n",
    "ax.set_title(\"Normalized cross gradient for joint inversion slice at y = 0 m\")\n",
    "cbar = plt.colorbar(im, format=\"%.1e\")\n",
    "cbar.set_label(\"|cross grad|\", rotation=270, labelpad=15, size=12)\n",
    "plt.show()\n",
    "\n",
    "# Normalized Cross Gradient of Separately Recovered Susceptibility and Density Models\n",
    "m_dens_single = np.loadtxt(dir_path + \"single_model_dens.txt\")\n",
    "m_susc_single = np.loadtxt(dir_path + \"single_model_susc.txt\")\n",
    "m_separate = np.r_[m_dens_single[ind_active], m_susc_single[ind_active]]\n",
    "\n",
    "ncg_single = cross_grad.calculate_cross_gradient(m_separate, normalized=True)\n",
    "\n",
    "fig = plt.figure(figsize=(9, 4))\n",
    "ax = plt.subplot(111)\n",
    "(im,) = mesh.plot_slice(\n",
    "    plotting_map * ncg_single,\n",
    "    normal=\"Y\",\n",
    "    ax=ax,\n",
    "    grid=True,\n",
    ")\n",
    "ax.set_title(\"Normalized cross gradient for separate inversion slice at y = 0 m\")\n",
    "cbar = plt.colorbar(im, format=\"%.1e\")\n",
    "cbar.set_label(\"|cross grad|\", rotation=270, labelpad=15, size=12)\n",
    "\n",
    "plt.show()\n",
    "\n",
    "\n",
    "# Cross Plots Recovered Susceptibility and Density Models\n",
    "fig = plt.figure(figsize=(14, 5))\n",
    "ax0 = plt.subplot(121)\n",
    "ax0.scatter(\n",
    "    plotting_map * m_dens_joint, plotting_map * m_susc_joint, s=4, c=\"black\", alpha=0.1\n",
    ")\n",
    "\n",
    "ax0.set_xlabel(\"Density\", size=12)\n",
    "ax0.set_ylabel(\"Susceptibility\", size=12)\n",
    "ax0.tick_params(labelsize=12)\n",
    "ax0.set_title(\"Joint inversion\")\n",
    "\n",
    "ax1 = plt.subplot(122)\n",
    "ax1.scatter(m_dens_single, m_susc_single, s=4, c=\"black\", alpha=0.1)\n",
    "\n",
    "ax1.set_xlabel(\"Density\", size=12)\n",
    "ax1.set_ylabel(\"Susceptibility\", size=12)\n",
    "ax1.tick_params(labelsize=12)\n",
    "ax1.set_title(\"Separate inversion\")\n",
    "\n",
    "plt.show()"
   ]
  }
 ],
 "metadata": {
  "kernelspec": {
   "display_name": "Python 3",
   "language": "python",
   "name": "python3"
  },
  "language_info": {
   "codemirror_mode": {
    "name": "ipython",
    "version": 3
   },
   "file_extension": ".py",
   "mimetype": "text/x-python",
   "name": "python",
   "nbconvert_exporter": "python",
   "pygments_lexer": "ipython3",
   "version": "3.8.8"
  }
 },
 "nbformat": 4,
 "nbformat_minor": 4
}
